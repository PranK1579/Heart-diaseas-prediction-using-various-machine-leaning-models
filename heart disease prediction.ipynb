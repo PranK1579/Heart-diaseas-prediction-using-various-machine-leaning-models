{
 "cells": [
  {
   "cell_type": "markdown",
   "id": "18913cd8",
   "metadata": {
    "papermill": {
     "duration": 0.022935,
     "end_time": "2022-08-17T17:29:12.889509",
     "exception": false,
     "start_time": "2022-08-17T17:29:12.866574",
     "status": "completed"
    },
    "tags": []
   },
   "source": [
    "### Importing the Libraries"
   ]
  },
  {
   "cell_type": "code",
   "execution_count": 1,
   "id": "b5d9605d",
   "metadata": {
    "execution": {
     "iopub.execute_input": "2022-08-17T17:29:12.937459Z",
     "iopub.status.busy": "2022-08-17T17:29:12.937029Z",
     "iopub.status.idle": "2022-08-17T17:29:14.476836Z",
     "shell.execute_reply": "2022-08-17T17:29:14.475777Z"
    },
    "papermill": {
     "duration": 1.567139,
     "end_time": "2022-08-17T17:29:14.479673",
     "exception": false,
     "start_time": "2022-08-17T17:29:12.912534",
     "status": "completed"
    },
    "tags": []
   },
   "outputs": [],
   "source": [
    "import pandas as pd\n",
    "import numpy as np\n",
    "\n",
    "import matplotlib.pyplot as plt\n",
    "import seaborn as sns\n",
    "sns.set()\n",
    "\n",
    "from sklearn.metrics import accuracy_score, f1_score, confusion_matrix,classification_report\n",
    "from sklearn.model_selection import train_test_split\n",
    "from sklearn.preprocessing import MinMaxScaler\n",
    "from sklearn.linear_model import LogisticRegression\n",
    "from sklearn.tree import DecisionTreeClassifier\n",
    "from sklearn.ensemble import RandomForestClassifier\n",
    "from sklearn.ensemble import AdaBoostClassifier\n",
    "from sklearn.ensemble import GradientBoostingClassifier\n",
    "from xgboost import XGBClassifier\n",
    "import xgboost as xgb\n",
    "from sklearn.neighbors import KNeighborsClassifier\n",
    "from sklearn.svm import SVC\n"
   ]
  },
  {
   "cell_type": "markdown",
   "id": "05c76b4f",
   "metadata": {
    "papermill": {
     "duration": 0.022785,
     "end_time": "2022-08-17T17:29:14.525712",
     "exception": false,
     "start_time": "2022-08-17T17:29:14.502927",
     "status": "completed"
    },
    "tags": []
   },
   "source": [
    "# EDA"
   ]
  },
  {
   "cell_type": "markdown",
   "id": "9a5dfce3",
   "metadata": {
    "papermill": {
     "duration": 0.026496,
     "end_time": "2022-08-17T17:29:14.575260",
     "exception": false,
     "start_time": "2022-08-17T17:29:14.548764",
     "status": "completed"
    },
    "tags": []
   },
   "source": [
    "### Load the Data"
   ]
  },
  {
   "cell_type": "code",
   "execution_count": 2,
   "id": "a9c4326a",
   "metadata": {
    "execution": {
     "iopub.execute_input": "2022-08-17T17:29:14.632659Z",
     "iopub.status.busy": "2022-08-17T17:29:14.631868Z",
     "iopub.status.idle": "2022-08-17T17:29:14.672109Z",
     "shell.execute_reply": "2022-08-17T17:29:14.670878Z"
    },
    "papermill": {
     "duration": 0.073813,
     "end_time": "2022-08-17T17:29:14.675650",
     "exception": false,
     "start_time": "2022-08-17T17:29:14.601837",
     "status": "completed"
    },
    "tags": []
   },
   "outputs": [
    {
     "data": {
      "text/html": [
       "<div>\n",
       "<style scoped>\n",
       "    .dataframe tbody tr th:only-of-type {\n",
       "        vertical-align: middle;\n",
       "    }\n",
       "\n",
       "    .dataframe tbody tr th {\n",
       "        vertical-align: top;\n",
       "    }\n",
       "\n",
       "    .dataframe thead th {\n",
       "        text-align: right;\n",
       "    }\n",
       "</style>\n",
       "<table border=\"1\" class=\"dataframe\">\n",
       "  <thead>\n",
       "    <tr style=\"text-align: right;\">\n",
       "      <th></th>\n",
       "      <th>age</th>\n",
       "      <th>sex</th>\n",
       "      <th>cp</th>\n",
       "      <th>trestbps</th>\n",
       "      <th>chol</th>\n",
       "      <th>fbs</th>\n",
       "      <th>restecg</th>\n",
       "      <th>thalach</th>\n",
       "      <th>exang</th>\n",
       "      <th>oldpeak</th>\n",
       "      <th>slope</th>\n",
       "      <th>ca</th>\n",
       "      <th>thal</th>\n",
       "      <th>target</th>\n",
       "    </tr>\n",
       "  </thead>\n",
       "  <tbody>\n",
       "    <tr>\n",
       "      <th>0</th>\n",
       "      <td>52</td>\n",
       "      <td>1</td>\n",
       "      <td>0</td>\n",
       "      <td>125</td>\n",
       "      <td>212</td>\n",
       "      <td>0</td>\n",
       "      <td>1</td>\n",
       "      <td>168</td>\n",
       "      <td>0</td>\n",
       "      <td>1.0</td>\n",
       "      <td>2</td>\n",
       "      <td>2</td>\n",
       "      <td>3</td>\n",
       "      <td>0</td>\n",
       "    </tr>\n",
       "    <tr>\n",
       "      <th>1</th>\n",
       "      <td>53</td>\n",
       "      <td>1</td>\n",
       "      <td>0</td>\n",
       "      <td>140</td>\n",
       "      <td>203</td>\n",
       "      <td>1</td>\n",
       "      <td>0</td>\n",
       "      <td>155</td>\n",
       "      <td>1</td>\n",
       "      <td>3.1</td>\n",
       "      <td>0</td>\n",
       "      <td>0</td>\n",
       "      <td>3</td>\n",
       "      <td>0</td>\n",
       "    </tr>\n",
       "    <tr>\n",
       "      <th>2</th>\n",
       "      <td>70</td>\n",
       "      <td>1</td>\n",
       "      <td>0</td>\n",
       "      <td>145</td>\n",
       "      <td>174</td>\n",
       "      <td>0</td>\n",
       "      <td>1</td>\n",
       "      <td>125</td>\n",
       "      <td>1</td>\n",
       "      <td>2.6</td>\n",
       "      <td>0</td>\n",
       "      <td>0</td>\n",
       "      <td>3</td>\n",
       "      <td>0</td>\n",
       "    </tr>\n",
       "    <tr>\n",
       "      <th>3</th>\n",
       "      <td>61</td>\n",
       "      <td>1</td>\n",
       "      <td>0</td>\n",
       "      <td>148</td>\n",
       "      <td>203</td>\n",
       "      <td>0</td>\n",
       "      <td>1</td>\n",
       "      <td>161</td>\n",
       "      <td>0</td>\n",
       "      <td>0.0</td>\n",
       "      <td>2</td>\n",
       "      <td>1</td>\n",
       "      <td>3</td>\n",
       "      <td>0</td>\n",
       "    </tr>\n",
       "    <tr>\n",
       "      <th>4</th>\n",
       "      <td>62</td>\n",
       "      <td>0</td>\n",
       "      <td>0</td>\n",
       "      <td>138</td>\n",
       "      <td>294</td>\n",
       "      <td>1</td>\n",
       "      <td>1</td>\n",
       "      <td>106</td>\n",
       "      <td>0</td>\n",
       "      <td>1.9</td>\n",
       "      <td>1</td>\n",
       "      <td>3</td>\n",
       "      <td>2</td>\n",
       "      <td>0</td>\n",
       "    </tr>\n",
       "  </tbody>\n",
       "</table>\n",
       "</div>"
      ],
      "text/plain": [
       "   age  sex  cp  trestbps  chol  fbs  restecg  thalach  exang  oldpeak  slope  \\\n",
       "0   52    1   0       125   212    0        1      168      0      1.0      2   \n",
       "1   53    1   0       140   203    1        0      155      1      3.1      0   \n",
       "2   70    1   0       145   174    0        1      125      1      2.6      0   \n",
       "3   61    1   0       148   203    0        1      161      0      0.0      2   \n",
       "4   62    0   0       138   294    1        1      106      0      1.9      1   \n",
       "\n",
       "   ca  thal  target  \n",
       "0   2     3       0  \n",
       "1   0     3       0  \n",
       "2   0     3       0  \n",
       "3   1     3       0  \n",
       "4   3     2       0  "
      ]
     },
     "execution_count": 2,
     "metadata": {},
     "output_type": "execute_result"
    }
   ],
   "source": [
    "data = pd.read_csv(\"../input/heart-disease-dataset/heart.csv\")\n",
    "data.head()"
   ]
  },
  {
   "cell_type": "markdown",
   "id": "182944ef",
   "metadata": {
    "papermill": {
     "duration": 0.024321,
     "end_time": "2022-08-17T17:29:14.728017",
     "exception": false,
     "start_time": "2022-08-17T17:29:14.703696",
     "status": "completed"
    },
    "tags": []
   },
   "source": [
    "### OVERVIEW"
   ]
  },
  {
   "cell_type": "markdown",
   "id": "1a22cebd",
   "metadata": {
    "papermill": {
     "duration": 0.023323,
     "end_time": "2022-08-17T17:29:14.775664",
     "exception": false,
     "start_time": "2022-08-17T17:29:14.752341",
     "status": "completed"
    },
    "tags": []
   },
   "source": [
    "**Dataset statistics**\n",
    "- **Number of rows: $\\;\\;\\;\\;\\;\\;\\;\\;\\;\\;\\;\\;\\;\\;\\;\\;\\;\\;$ 1025**\n",
    "- **Number of columns: $\\;\\;\\;\\;\\;\\;\\;\\;\\;\\;\\;\\;\\;$ 14**\n",
    "- **Missing values: $\\;\\;\\;\\;\\;\\;\\;\\;\\;\\;\\;\\;\\;\\;\\;\\;\\;\\;\\;\\;$ 0** \n",
    "- **Missing values (%): $\\;\\;\\;\\;\\;\\;\\;\\;\\;\\;\\;\\;\\;\\;\\;$ 0.0%**"
   ]
  },
  {
   "cell_type": "markdown",
   "id": "c0fa7332",
   "metadata": {
    "papermill": {
     "duration": 0.022941,
     "end_time": "2022-08-17T17:29:14.821721",
     "exception": false,
     "start_time": "2022-08-17T17:29:14.798780",
     "status": "completed"
    },
    "tags": []
   },
   "source": [
    "### Number of Rows and Columns"
   ]
  },
  {
   "cell_type": "code",
   "execution_count": 3,
   "id": "28da9894",
   "metadata": {
    "execution": {
     "iopub.execute_input": "2022-08-17T17:29:14.870309Z",
     "iopub.status.busy": "2022-08-17T17:29:14.869300Z",
     "iopub.status.idle": "2022-08-17T17:29:14.876426Z",
     "shell.execute_reply": "2022-08-17T17:29:14.875436Z"
    },
    "papermill": {
     "duration": 0.033676,
     "end_time": "2022-08-17T17:29:14.878494",
     "exception": false,
     "start_time": "2022-08-17T17:29:14.844818",
     "status": "completed"
    },
    "tags": []
   },
   "outputs": [
    {
     "data": {
      "text/plain": [
       "(1025, 14)"
      ]
     },
     "execution_count": 3,
     "metadata": {},
     "output_type": "execute_result"
    }
   ],
   "source": [
    "data.shape"
   ]
  },
  {
   "cell_type": "markdown",
   "id": "f2a1b1a1",
   "metadata": {
    "papermill": {
     "duration": 0.022781,
     "end_time": "2022-08-17T17:29:14.924515",
     "exception": false,
     "start_time": "2022-08-17T17:29:14.901734",
     "status": "completed"
    },
    "tags": []
   },
   "source": [
    "### Column Names"
   ]
  },
  {
   "cell_type": "code",
   "execution_count": 4,
   "id": "f301b523",
   "metadata": {
    "execution": {
     "iopub.execute_input": "2022-08-17T17:29:14.972882Z",
     "iopub.status.busy": "2022-08-17T17:29:14.972188Z",
     "iopub.status.idle": "2022-08-17T17:29:14.978143Z",
     "shell.execute_reply": "2022-08-17T17:29:14.977170Z"
    },
    "papermill": {
     "duration": 0.032474,
     "end_time": "2022-08-17T17:29:14.980090",
     "exception": false,
     "start_time": "2022-08-17T17:29:14.947616",
     "status": "completed"
    },
    "tags": []
   },
   "outputs": [
    {
     "data": {
      "text/plain": [
       "Index(['age', 'sex', 'cp', 'trestbps', 'chol', 'fbs', 'restecg', 'thalach',\n",
       "       'exang', 'oldpeak', 'slope', 'ca', 'thal', 'target'],\n",
       "      dtype='object')"
      ]
     },
     "execution_count": 4,
     "metadata": {},
     "output_type": "execute_result"
    }
   ],
   "source": [
    "data.columns"
   ]
  },
  {
   "cell_type": "markdown",
   "id": "a867d245",
   "metadata": {
    "papermill": {
     "duration": 0.024095,
     "end_time": "2022-08-17T17:29:15.028159",
     "exception": false,
     "start_time": "2022-08-17T17:29:15.004064",
     "status": "completed"
    },
    "tags": []
   },
   "source": [
    "- **AGE:** $\\;\\;\\;\\;\\;\\;\\;\\;\\;\\;\\;\\;$ Age in years\n",
    "- **SEX:** $\\;\\;\\;\\;\\;\\;\\;\\;\\;\\;\\;\\;$ 1 = Male; 0 = Female\n",
    "- **CP:** $\\;\\;\\;\\;\\;\\;\\;\\;\\;\\;\\;\\;\\;\\;$ Chest Pain type\n",
    "- **TRESTBPS:** $\\;\\;\\;\\;$Resting Blood Pressure (in mm Hg on Admission to the Hospital)\n",
    "- **CHOL:** $\\;\\;\\;\\;\\;\\;\\;\\;\\;\\;$ Serum Cholestoral in mg/dl\n",
    "- **FPS:** $\\;\\;\\;\\;\\;\\;\\;\\;\\;\\;\\;\\;\\;$ Fasting Blood Sugar > 120 mg/dl (1 = True; 0 = False)\n",
    "- **RESTECG:** $\\;\\;\\;\\;\\;$ Resting Electrocardiographic Results\n",
    "- **THALACH:** $\\;\\;\\;\\;\\;$ Maximum Heart Rate Achieved\n",
    "- **EXANG:** $\\;\\;\\;\\;\\;\\;\\;\\;\\;$ Exercise induced Angina (1 = yes; 0 = no)\n",
    "- **OLDPEAK:** $\\;\\;\\;\\;\\;$ ST Depression induced by Exercise Relative to Rest\n",
    "- **SLOPE:** $\\;\\;\\;\\;\\;\\;\\;\\;\\;$ The Slope of the Peak Exercise ST Segment\n",
    "- **CA:** $\\;\\;\\;\\;\\;\\;\\;\\;\\;\\;\\;\\;\\;\\;\\;$Number of Major Vessels (0-3) Colored by Flourosopy\n",
    "- **THAL:** $\\;\\;\\;\\;\\;\\;\\;\\;\\;\\;\\;$ A blood disorder called Thalassemia (3 = Normal; 6 = Fixed Defect; 7 = Reversable Defect)\n",
    "- **TARGET:** $\\;\\;\\;\\;\\;\\;\\;\\;$ 1 or 0"
   ]
  },
  {
   "cell_type": "markdown",
   "id": "e5ea166e",
   "metadata": {
    "papermill": {
     "duration": 0.025675,
     "end_time": "2022-08-17T17:29:15.081528",
     "exception": false,
     "start_time": "2022-08-17T17:29:15.055853",
     "status": "completed"
    },
    "tags": []
   },
   "source": [
    "### Column INFO"
   ]
  },
  {
   "cell_type": "code",
   "execution_count": 5,
   "id": "2fac9504",
   "metadata": {
    "execution": {
     "iopub.execute_input": "2022-08-17T17:29:15.134351Z",
     "iopub.status.busy": "2022-08-17T17:29:15.133647Z",
     "iopub.status.idle": "2022-08-17T17:29:15.160291Z",
     "shell.execute_reply": "2022-08-17T17:29:15.158637Z"
    },
    "papermill": {
     "duration": 0.057924,
     "end_time": "2022-08-17T17:29:15.163299",
     "exception": false,
     "start_time": "2022-08-17T17:29:15.105375",
     "status": "completed"
    },
    "tags": []
   },
   "outputs": [
    {
     "name": "stdout",
     "output_type": "stream",
     "text": [
      "<class 'pandas.core.frame.DataFrame'>\n",
      "RangeIndex: 1025 entries, 0 to 1024\n",
      "Data columns (total 14 columns):\n",
      " #   Column    Non-Null Count  Dtype  \n",
      "---  ------    --------------  -----  \n",
      " 0   age       1025 non-null   int64  \n",
      " 1   sex       1025 non-null   int64  \n",
      " 2   cp        1025 non-null   int64  \n",
      " 3   trestbps  1025 non-null   int64  \n",
      " 4   chol      1025 non-null   int64  \n",
      " 5   fbs       1025 non-null   int64  \n",
      " 6   restecg   1025 non-null   int64  \n",
      " 7   thalach   1025 non-null   int64  \n",
      " 8   exang     1025 non-null   int64  \n",
      " 9   oldpeak   1025 non-null   float64\n",
      " 10  slope     1025 non-null   int64  \n",
      " 11  ca        1025 non-null   int64  \n",
      " 12  thal      1025 non-null   int64  \n",
      " 13  target    1025 non-null   int64  \n",
      "dtypes: float64(1), int64(13)\n",
      "memory usage: 112.2 KB\n"
     ]
    }
   ],
   "source": [
    "data.info()"
   ]
  },
  {
   "cell_type": "markdown",
   "id": "ea2559ba",
   "metadata": {
    "papermill": {
     "duration": 0.024682,
     "end_time": "2022-08-17T17:29:15.214225",
     "exception": false,
     "start_time": "2022-08-17T17:29:15.189543",
     "status": "completed"
    },
    "tags": []
   },
   "source": [
    "### Column Data Types"
   ]
  },
  {
   "cell_type": "code",
   "execution_count": 6,
   "id": "55aa243d",
   "metadata": {
    "execution": {
     "iopub.execute_input": "2022-08-17T17:29:15.264195Z",
     "iopub.status.busy": "2022-08-17T17:29:15.263423Z",
     "iopub.status.idle": "2022-08-17T17:29:15.271586Z",
     "shell.execute_reply": "2022-08-17T17:29:15.270709Z"
    },
    "papermill": {
     "duration": 0.035803,
     "end_time": "2022-08-17T17:29:15.273797",
     "exception": false,
     "start_time": "2022-08-17T17:29:15.237994",
     "status": "completed"
    },
    "scrolled": true,
    "tags": []
   },
   "outputs": [
    {
     "data": {
      "text/plain": [
       "age           int64\n",
       "sex           int64\n",
       "cp            int64\n",
       "trestbps      int64\n",
       "chol          int64\n",
       "fbs           int64\n",
       "restecg       int64\n",
       "thalach       int64\n",
       "exang         int64\n",
       "oldpeak     float64\n",
       "slope         int64\n",
       "ca            int64\n",
       "thal          int64\n",
       "target        int64\n",
       "dtype: object"
      ]
     },
     "execution_count": 6,
     "metadata": {},
     "output_type": "execute_result"
    }
   ],
   "source": [
    "data.dtypes"
   ]
  },
  {
   "cell_type": "markdown",
   "id": "b8ad74bd",
   "metadata": {
    "papermill": {
     "duration": 0.023372,
     "end_time": "2022-08-17T17:29:15.321042",
     "exception": false,
     "start_time": "2022-08-17T17:29:15.297670",
     "status": "completed"
    },
    "tags": []
   },
   "source": [
    "After a quick glimpse of the data set to get an initial understanding of the variables and their formats, the next step is to check for the number of missing values in each column."
   ]
  },
  {
   "cell_type": "markdown",
   "id": "c63f55c6",
   "metadata": {
    "papermill": {
     "duration": 0.023619,
     "end_time": "2022-08-17T17:29:15.368414",
     "exception": false,
     "start_time": "2022-08-17T17:29:15.344795",
     "status": "completed"
    },
    "tags": []
   },
   "source": [
    "# Data Cleaning"
   ]
  },
  {
   "cell_type": "markdown",
   "id": "afaa99af",
   "metadata": {
    "papermill": {
     "duration": 0.023275,
     "end_time": "2022-08-17T17:29:15.415586",
     "exception": false,
     "start_time": "2022-08-17T17:29:15.392311",
     "status": "completed"
    },
    "tags": []
   },
   "source": [
    "### Missing Values"
   ]
  },
  {
   "cell_type": "code",
   "execution_count": 7,
   "id": "71a2e094",
   "metadata": {
    "execution": {
     "iopub.execute_input": "2022-08-17T17:29:15.466046Z",
     "iopub.status.busy": "2022-08-17T17:29:15.465264Z",
     "iopub.status.idle": "2022-08-17T17:29:15.474854Z",
     "shell.execute_reply": "2022-08-17T17:29:15.473960Z"
    },
    "papermill": {
     "duration": 0.038001,
     "end_time": "2022-08-17T17:29:15.476984",
     "exception": false,
     "start_time": "2022-08-17T17:29:15.438983",
     "status": "completed"
    },
    "tags": []
   },
   "outputs": [
    {
     "data": {
      "text/plain": [
       "age         0\n",
       "sex         0\n",
       "cp          0\n",
       "trestbps    0\n",
       "chol        0\n",
       "fbs         0\n",
       "restecg     0\n",
       "thalach     0\n",
       "exang       0\n",
       "oldpeak     0\n",
       "slope       0\n",
       "ca          0\n",
       "thal        0\n",
       "target      0\n",
       "dtype: int64"
      ]
     },
     "execution_count": 7,
     "metadata": {},
     "output_type": "execute_result"
    }
   ],
   "source": [
    "data.isnull().sum()"
   ]
  },
  {
   "cell_type": "markdown",
   "id": "0ed0e5e1",
   "metadata": {
    "papermill": {
     "duration": 0.023414,
     "end_time": "2022-08-17T17:29:15.524196",
     "exception": false,
     "start_time": "2022-08-17T17:29:15.500782",
     "status": "completed"
    },
    "tags": []
   },
   "source": [
    "Now there are no null values. so there is no need for data cleaning."
   ]
  },
  {
   "cell_type": "markdown",
   "id": "90b5ff7f",
   "metadata": {
    "papermill": {
     "duration": 0.02303,
     "end_time": "2022-08-17T17:29:15.570466",
     "exception": false,
     "start_time": "2022-08-17T17:29:15.547436",
     "status": "completed"
    },
    "tags": []
   },
   "source": [
    "## Data Analysis and Insights"
   ]
  },
  {
   "cell_type": "markdown",
   "id": "d6f0a7e6",
   "metadata": {
    "papermill": {
     "duration": 0.023247,
     "end_time": "2022-08-17T17:29:15.617221",
     "exception": false,
     "start_time": "2022-08-17T17:29:15.593974",
     "status": "completed"
    },
    "tags": []
   },
   "source": [
    "### Minimum,maximum and average age of the persons having heart disease"
   ]
  },
  {
   "cell_type": "code",
   "execution_count": 8,
   "id": "80c3795f",
   "metadata": {
    "execution": {
     "iopub.execute_input": "2022-08-17T17:29:15.666454Z",
     "iopub.status.busy": "2022-08-17T17:29:15.665672Z",
     "iopub.status.idle": "2022-08-17T17:29:15.682796Z",
     "shell.execute_reply": "2022-08-17T17:29:15.681630Z"
    },
    "papermill": {
     "duration": 0.044477,
     "end_time": "2022-08-17T17:29:15.685084",
     "exception": false,
     "start_time": "2022-08-17T17:29:15.640607",
     "status": "completed"
    },
    "scrolled": true,
    "tags": []
   },
   "outputs": [
    {
     "data": {
      "text/html": [
       "<div>\n",
       "<style scoped>\n",
       "    .dataframe tbody tr th:only-of-type {\n",
       "        vertical-align: middle;\n",
       "    }\n",
       "\n",
       "    .dataframe tbody tr th {\n",
       "        vertical-align: top;\n",
       "    }\n",
       "\n",
       "    .dataframe thead th {\n",
       "        text-align: right;\n",
       "    }\n",
       "</style>\n",
       "<table border=\"1\" class=\"dataframe\">\n",
       "  <thead>\n",
       "    <tr style=\"text-align: right;\">\n",
       "      <th></th>\n",
       "      <th>max</th>\n",
       "      <th>min</th>\n",
       "      <th>mean</th>\n",
       "    </tr>\n",
       "    <tr>\n",
       "      <th>target</th>\n",
       "      <th></th>\n",
       "      <th></th>\n",
       "      <th></th>\n",
       "    </tr>\n",
       "  </thead>\n",
       "  <tbody>\n",
       "    <tr>\n",
       "      <th>0</th>\n",
       "      <td>77</td>\n",
       "      <td>35</td>\n",
       "      <td>56.569138</td>\n",
       "    </tr>\n",
       "    <tr>\n",
       "      <th>1</th>\n",
       "      <td>76</td>\n",
       "      <td>29</td>\n",
       "      <td>52.408745</td>\n",
       "    </tr>\n",
       "  </tbody>\n",
       "</table>\n",
       "</div>"
      ],
      "text/plain": [
       "        max  min       mean\n",
       "target                     \n",
       "0        77   35  56.569138\n",
       "1        76   29  52.408745"
      ]
     },
     "execution_count": 8,
     "metadata": {},
     "output_type": "execute_result"
    }
   ],
   "source": [
    "data.groupby([\"target\"])[\"age\"].agg([\"max\",\"min\",\"mean\"])"
   ]
  },
  {
   "cell_type": "markdown",
   "id": "a78d728d",
   "metadata": {
    "papermill": {
     "duration": 0.023494,
     "end_time": "2022-08-17T17:29:15.732593",
     "exception": false,
     "start_time": "2022-08-17T17:29:15.709099",
     "status": "completed"
    },
    "tags": []
   },
   "source": [
    "### Number of peoples having heart disease?"
   ]
  },
  {
   "cell_type": "code",
   "execution_count": 9,
   "id": "a20d9ca5",
   "metadata": {
    "execution": {
     "iopub.execute_input": "2022-08-17T17:29:15.782173Z",
     "iopub.status.busy": "2022-08-17T17:29:15.781409Z",
     "iopub.status.idle": "2022-08-17T17:29:15.789270Z",
     "shell.execute_reply": "2022-08-17T17:29:15.788407Z"
    },
    "papermill": {
     "duration": 0.035195,
     "end_time": "2022-08-17T17:29:15.791444",
     "exception": false,
     "start_time": "2022-08-17T17:29:15.756249",
     "status": "completed"
    },
    "scrolled": true,
    "tags": []
   },
   "outputs": [
    {
     "data": {
      "text/plain": [
       "1    526\n",
       "0    499\n",
       "Name: target, dtype: int64"
      ]
     },
     "execution_count": 9,
     "metadata": {},
     "output_type": "execute_result"
    }
   ],
   "source": [
    "data.target.value_counts()"
   ]
  },
  {
   "cell_type": "markdown",
   "id": "eabf616b",
   "metadata": {
    "papermill": {
     "duration": 0.023696,
     "end_time": "2022-08-17T17:29:15.838977",
     "exception": false,
     "start_time": "2022-08-17T17:29:15.815281",
     "status": "completed"
    },
    "tags": []
   },
   "source": [
    "Around 526 peoples are having heart disease."
   ]
  },
  {
   "cell_type": "markdown",
   "id": "9563c8e1",
   "metadata": {
    "papermill": {
     "duration": 0.023156,
     "end_time": "2022-08-17T17:29:15.885935",
     "exception": false,
     "start_time": "2022-08-17T17:29:15.862779",
     "status": "completed"
    },
    "tags": []
   },
   "source": [
    "### Is sex is related to heart disease?"
   ]
  },
  {
   "cell_type": "code",
   "execution_count": 10,
   "id": "577c2628",
   "metadata": {
    "execution": {
     "iopub.execute_input": "2022-08-17T17:29:15.936393Z",
     "iopub.status.busy": "2022-08-17T17:29:15.935964Z",
     "iopub.status.idle": "2022-08-17T17:29:15.942542Z",
     "shell.execute_reply": "2022-08-17T17:29:15.941662Z"
    },
    "papermill": {
     "duration": 0.035089,
     "end_time": "2022-08-17T17:29:15.944705",
     "exception": false,
     "start_time": "2022-08-17T17:29:15.909616",
     "status": "completed"
    },
    "tags": []
   },
   "outputs": [],
   "source": [
    "data[\"sex\"] = data[\"sex\"].map({0:\"Female\", 1:\"Male\"})"
   ]
  },
  {
   "cell_type": "code",
   "execution_count": 11,
   "id": "0ba25006",
   "metadata": {
    "execution": {
     "iopub.execute_input": "2022-08-17T17:29:15.994342Z",
     "iopub.status.busy": "2022-08-17T17:29:15.993928Z",
     "iopub.status.idle": "2022-08-17T17:29:16.007370Z",
     "shell.execute_reply": "2022-08-17T17:29:16.006463Z"
    },
    "papermill": {
     "duration": 0.041058,
     "end_time": "2022-08-17T17:29:16.009610",
     "exception": false,
     "start_time": "2022-08-17T17:29:15.968552",
     "status": "completed"
    },
    "scrolled": true,
    "tags": []
   },
   "outputs": [
    {
     "data": {
      "text/html": [
       "<div>\n",
       "<style scoped>\n",
       "    .dataframe tbody tr th:only-of-type {\n",
       "        vertical-align: middle;\n",
       "    }\n",
       "\n",
       "    .dataframe tbody tr th {\n",
       "        vertical-align: top;\n",
       "    }\n",
       "\n",
       "    .dataframe thead th {\n",
       "        text-align: right;\n",
       "    }\n",
       "</style>\n",
       "<table border=\"1\" class=\"dataframe\">\n",
       "  <thead>\n",
       "    <tr style=\"text-align: right;\">\n",
       "      <th></th>\n",
       "      <th></th>\n",
       "      <th>value_counts</th>\n",
       "    </tr>\n",
       "    <tr>\n",
       "      <th>sex</th>\n",
       "      <th>target</th>\n",
       "      <th></th>\n",
       "    </tr>\n",
       "  </thead>\n",
       "  <tbody>\n",
       "    <tr>\n",
       "      <th rowspan=\"2\" valign=\"top\">Female</th>\n",
       "      <th>1</th>\n",
       "      <td>226</td>\n",
       "    </tr>\n",
       "    <tr>\n",
       "      <th>0</th>\n",
       "      <td>86</td>\n",
       "    </tr>\n",
       "    <tr>\n",
       "      <th rowspan=\"2\" valign=\"top\">Male</th>\n",
       "      <th>0</th>\n",
       "      <td>413</td>\n",
       "    </tr>\n",
       "    <tr>\n",
       "      <th>1</th>\n",
       "      <td>300</td>\n",
       "    </tr>\n",
       "  </tbody>\n",
       "</table>\n",
       "</div>"
      ],
      "text/plain": [
       "               value_counts\n",
       "sex    target              \n",
       "Female 1                226\n",
       "       0                 86\n",
       "Male   0                413\n",
       "       1                300"
      ]
     },
     "execution_count": 11,
     "metadata": {},
     "output_type": "execute_result"
    }
   ],
   "source": [
    "data.groupby(data[\"sex\"])[\"target\"].agg([\"value_counts\"])"
   ]
  },
  {
   "cell_type": "code",
   "execution_count": 12,
   "id": "69afc362",
   "metadata": {
    "execution": {
     "iopub.execute_input": "2022-08-17T17:29:16.060329Z",
     "iopub.status.busy": "2022-08-17T17:29:16.059573Z",
     "iopub.status.idle": "2022-08-17T17:29:16.310092Z",
     "shell.execute_reply": "2022-08-17T17:29:16.308502Z"
    },
    "papermill": {
     "duration": 0.278897,
     "end_time": "2022-08-17T17:29:16.312777",
     "exception": false,
     "start_time": "2022-08-17T17:29:16.033880",
     "status": "completed"
    },
    "scrolled": true,
    "tags": []
   },
   "outputs": [
    {
     "data": {
      "image/png": "[encoded data removed]",
      "text/plain": [
       "<Figure size 360x504 with 1 Axes>"
      ]
     },
     "metadata": {},
     "output_type": "display_data"
    }
   ],
   "source": [
    "sex = [\"Male\", \"Female\"]\n",
    "values = data[\"target\"].value_counts()\n",
    "color = [\"#FF0000\", \"#000000\"]\n",
    "\n",
    "plt.figure(figsize = (5, 7))\n",
    "plt.pie(values, labels = sex, colors = color, explode = (0.1, 0), textprops = {\"color\":\"w\"}, autopct = \"%.2f%%\", shadow = True, startangle = 90)\n",
    "\n",
    "plt.legend();"
   ]
  },
  {
   "cell_type": "markdown",
   "id": "504c68c4",
   "metadata": {
    "papermill": {
     "duration": 0.024445,
     "end_time": "2022-08-17T17:29:16.397545",
     "exception": false,
     "start_time": "2022-08-17T17:29:16.373100",
     "status": "completed"
    },
    "tags": []
   },
   "source": [
    "Ratio of **Male** to **Female** is approx **1:1**"
   ]
  },
  {
   "cell_type": "markdown",
   "id": "c532afcb",
   "metadata": {
    "papermill": {
     "duration": 0.024047,
     "end_time": "2022-08-17T17:29:16.445841",
     "exception": false,
     "start_time": "2022-08-17T17:29:16.421794",
     "status": "completed"
    },
    "tags": []
   },
   "source": [
    "Insight:Males are having more heart disease as compared to females."
   ]
  },
  {
   "cell_type": "markdown",
   "id": "8553aab3",
   "metadata": {
    "papermill": {
     "duration": 0.024293,
     "end_time": "2022-08-17T17:29:16.494838",
     "exception": false,
     "start_time": "2022-08-17T17:29:16.470545",
     "status": "completed"
    },
    "tags": []
   },
   "source": [
    "### Relation between Sex and Slope"
   ]
  },
  {
   "cell_type": "code",
   "execution_count": 13,
   "id": "90726551",
   "metadata": {
    "execution": {
     "iopub.execute_input": "2022-08-17T17:29:16.546299Z",
     "iopub.status.busy": "2022-08-17T17:29:16.545211Z",
     "iopub.status.idle": "2022-08-17T17:29:16.762038Z",
     "shell.execute_reply": "2022-08-17T17:29:16.760972Z"
    },
    "papermill": {
     "duration": 0.24451,
     "end_time": "2022-08-17T17:29:16.764217",
     "exception": false,
     "start_time": "2022-08-17T17:29:16.519707",
     "status": "completed"
    },
    "scrolled": true,
    "tags": []
   },
   "outputs": [
    {
     "data": {
      "image/png": "[encoded data removed]",
      "text/plain": [
       "<Figure size 432x288 with 1 Axes>"
      ]
     },
     "metadata": {},
     "output_type": "display_data"
    }
   ],
   "source": [
    "sns.countplot(x = data[\"sex\"], hue = data[\"slope\"]);"
   ]
  },
  {
   "cell_type": "markdown",
   "id": "59cd55a8",
   "metadata": {
    "papermill": {
     "duration": 0.024241,
     "end_time": "2022-08-17T17:29:16.812960",
     "exception": false,
     "start_time": "2022-08-17T17:29:16.788719",
     "status": "completed"
    },
    "tags": []
   },
   "source": [
    "The slope value is higher in the case of **Males**"
   ]
  },
  {
   "cell_type": "markdown",
   "id": "76f07cf7",
   "metadata": {
    "papermill": {
     "duration": 0.024427,
     "end_time": "2022-08-17T17:29:16.862053",
     "exception": false,
     "start_time": "2022-08-17T17:29:16.837626",
     "status": "completed"
    },
    "tags": []
   },
   "source": [
    "### How blood pressure is related with heart disease?"
   ]
  },
  {
   "cell_type": "code",
   "execution_count": 14,
   "id": "0570ea79",
   "metadata": {
    "execution": {
     "iopub.execute_input": "2022-08-17T17:29:16.913494Z",
     "iopub.status.busy": "2022-08-17T17:29:16.912783Z",
     "iopub.status.idle": "2022-08-17T17:29:18.042709Z",
     "shell.execute_reply": "2022-08-17T17:29:18.041684Z"
    },
    "papermill": {
     "duration": 1.158413,
     "end_time": "2022-08-17T17:29:18.045183",
     "exception": false,
     "start_time": "2022-08-17T17:29:16.886770",
     "status": "completed"
    },
    "scrolled": true,
    "tags": []
   },
   "outputs": [
    {
     "name": "stderr",
     "output_type": "stream",
     "text": [
      "/opt/conda/lib/python3.7/site-packages/seaborn/categorical.py:1296: UserWarning: 24.6% of the points cannot be placed; you may want to decrease the size of the markers or use stripplot.\n",
      "  warnings.warn(msg, UserWarning)\n",
      "/opt/conda/lib/python3.7/site-packages/seaborn/categorical.py:1296: UserWarning: 29.1% of the points cannot be placed; you may want to decrease the size of the markers or use stripplot.\n",
      "  warnings.warn(msg, UserWarning)\n"
     ]
    },
    {
     "data": {
      "text/plain": [
       "<seaborn.axisgrid.FacetGrid at 0x7f9fae18c850>"
      ]
     },
     "execution_count": 14,
     "metadata": {},
     "output_type": "execute_result"
    },
    {
     "data": {
      "image/png": "[encoded data removed]",
      "text/plain": [
       "<Figure size 360x360 with 1 Axes>"
      ]
     },
     "metadata": {},
     "output_type": "display_data"
    }
   ],
   "source": [
    "sns.catplot(x=\"target\",y=\"trestbps\",data=data,kind=\"swarm\")"
   ]
  },
  {
   "cell_type": "markdown",
   "id": "1744494b",
   "metadata": {
    "papermill": {
     "duration": 0.02588,
     "end_time": "2022-08-17T17:29:18.097465",
     "exception": false,
     "start_time": "2022-08-17T17:29:18.071585",
     "status": "completed"
    },
    "tags": []
   },
   "source": [
    "Insight: People having blood pressure between 120 - 140 are more likely to have a heart disease."
   ]
  },
  {
   "cell_type": "markdown",
   "id": "c759a9d5",
   "metadata": {
    "papermill": {
     "duration": 0.025801,
     "end_time": "2022-08-17T17:29:18.149566",
     "exception": false,
     "start_time": "2022-08-17T17:29:18.123765",
     "status": "completed"
    },
    "tags": []
   },
   "source": [
    "### How chest pain is related with heart disease"
   ]
  },
  {
   "cell_type": "code",
   "execution_count": 15,
   "id": "e32741c5",
   "metadata": {
    "execution": {
     "iopub.execute_input": "2022-08-17T17:29:18.203681Z",
     "iopub.status.busy": "2022-08-17T17:29:18.203319Z",
     "iopub.status.idle": "2022-08-17T17:29:18.215548Z",
     "shell.execute_reply": "2022-08-17T17:29:18.214345Z"
    },
    "papermill": {
     "duration": 0.042035,
     "end_time": "2022-08-17T17:29:18.217912",
     "exception": false,
     "start_time": "2022-08-17T17:29:18.175877",
     "status": "completed"
    },
    "tags": []
   },
   "outputs": [
    {
     "data": {
      "text/html": [
       "<div>\n",
       "<style scoped>\n",
       "    .dataframe tbody tr th:only-of-type {\n",
       "        vertical-align: middle;\n",
       "    }\n",
       "\n",
       "    .dataframe tbody tr th {\n",
       "        vertical-align: top;\n",
       "    }\n",
       "\n",
       "    .dataframe thead th {\n",
       "        text-align: right;\n",
       "    }\n",
       "</style>\n",
       "<table border=\"1\" class=\"dataframe\">\n",
       "  <thead>\n",
       "    <tr style=\"text-align: right;\">\n",
       "      <th></th>\n",
       "      <th></th>\n",
       "      <th>value_counts</th>\n",
       "    </tr>\n",
       "    <tr>\n",
       "      <th>cp</th>\n",
       "      <th>target</th>\n",
       "      <th></th>\n",
       "    </tr>\n",
       "  </thead>\n",
       "  <tbody>\n",
       "    <tr>\n",
       "      <th rowspan=\"2\" valign=\"top\">0</th>\n",
       "      <th>0</th>\n",
       "      <td>375</td>\n",
       "    </tr>\n",
       "    <tr>\n",
       "      <th>1</th>\n",
       "      <td>122</td>\n",
       "    </tr>\n",
       "    <tr>\n",
       "      <th rowspan=\"2\" valign=\"top\">1</th>\n",
       "      <th>1</th>\n",
       "      <td>134</td>\n",
       "    </tr>\n",
       "    <tr>\n",
       "      <th>0</th>\n",
       "      <td>33</td>\n",
       "    </tr>\n",
       "    <tr>\n",
       "      <th rowspan=\"2\" valign=\"top\">2</th>\n",
       "      <th>1</th>\n",
       "      <td>219</td>\n",
       "    </tr>\n",
       "    <tr>\n",
       "      <th>0</th>\n",
       "      <td>65</td>\n",
       "    </tr>\n",
       "    <tr>\n",
       "      <th rowspan=\"2\" valign=\"top\">3</th>\n",
       "      <th>1</th>\n",
       "      <td>51</td>\n",
       "    </tr>\n",
       "    <tr>\n",
       "      <th>0</th>\n",
       "      <td>26</td>\n",
       "    </tr>\n",
       "  </tbody>\n",
       "</table>\n",
       "</div>"
      ],
      "text/plain": [
       "           value_counts\n",
       "cp target              \n",
       "0  0                375\n",
       "   1                122\n",
       "1  1                134\n",
       "   0                 33\n",
       "2  1                219\n",
       "   0                 65\n",
       "3  1                 51\n",
       "   0                 26"
      ]
     },
     "execution_count": 15,
     "metadata": {},
     "output_type": "execute_result"
    }
   ],
   "source": [
    "data.groupby(data[\"cp\"])[\"target\"].agg([\"value_counts\"])"
   ]
  },
  {
   "cell_type": "code",
   "execution_count": 16,
   "id": "8726185d",
   "metadata": {
    "execution": {
     "iopub.execute_input": "2022-08-17T17:29:18.273222Z",
     "iopub.status.busy": "2022-08-17T17:29:18.272529Z",
     "iopub.status.idle": "2022-08-17T17:29:18.485700Z",
     "shell.execute_reply": "2022-08-17T17:29:18.484821Z"
    },
    "papermill": {
     "duration": 0.24369,
     "end_time": "2022-08-17T17:29:18.487991",
     "exception": false,
     "start_time": "2022-08-17T17:29:18.244301",
     "status": "completed"
    },
    "scrolled": true,
    "tags": []
   },
   "outputs": [
    {
     "data": {
      "image/png": "[encoded data removed]",
      "text/plain": [
       "<Figure size 432x288 with 1 Axes>"
      ]
     },
     "metadata": {},
     "output_type": "display_data"
    }
   ],
   "source": [
    "sns.countplot(x = \"sex\",data = data, hue = \"target\");"
   ]
  },
  {
   "cell_type": "markdown",
   "id": "926ce7d0",
   "metadata": {
    "papermill": {
     "duration": 0.026137,
     "end_time": "2022-08-17T17:29:18.540847",
     "exception": false,
     "start_time": "2022-08-17T17:29:18.514710",
     "status": "completed"
    },
    "tags": []
   },
   "source": [
    "### Chest Pain Classification Sex-wise"
   ]
  },
  {
   "cell_type": "markdown",
   "id": "41f8f160",
   "metadata": {
    "papermill": {
     "duration": 0.026106,
     "end_time": "2022-08-17T17:29:18.593309",
     "exception": false,
     "start_time": "2022-08-17T17:29:18.567203",
     "status": "completed"
    },
    "tags": []
   },
   "source": [
    "chest pain:\n",
    "0: Typical angina: chest pain related decrease blood supply to the heart\n",
    "1: Atypical angina: chest pain not related to heart\n",
    "2: Non-anginal pain: typically esophageal spasms (non heart related)\n",
    "3: Asymptomatic: chest pain not showing signs of disease"
   ]
  },
  {
   "cell_type": "code",
   "execution_count": 17,
   "id": "c7db1aa2",
   "metadata": {
    "execution": {
     "iopub.execute_input": "2022-08-17T17:29:18.648804Z",
     "iopub.status.busy": "2022-08-17T17:29:18.648186Z",
     "iopub.status.idle": "2022-08-17T17:29:18.660572Z",
     "shell.execute_reply": "2022-08-17T17:29:18.659506Z"
    },
    "papermill": {
     "duration": 0.042661,
     "end_time": "2022-08-17T17:29:18.662701",
     "exception": false,
     "start_time": "2022-08-17T17:29:18.620040",
     "status": "completed"
    },
    "tags": []
   },
   "outputs": [
    {
     "data": {
      "text/html": [
       "<div>\n",
       "<style scoped>\n",
       "    .dataframe tbody tr th:only-of-type {\n",
       "        vertical-align: middle;\n",
       "    }\n",
       "\n",
       "    .dataframe tbody tr th {\n",
       "        vertical-align: top;\n",
       "    }\n",
       "\n",
       "    .dataframe thead th {\n",
       "        text-align: right;\n",
       "    }\n",
       "</style>\n",
       "<table border=\"1\" class=\"dataframe\">\n",
       "  <thead>\n",
       "    <tr style=\"text-align: right;\">\n",
       "      <th></th>\n",
       "      <th></th>\n",
       "      <th>value_counts</th>\n",
       "    </tr>\n",
       "    <tr>\n",
       "      <th>sex</th>\n",
       "      <th>cp</th>\n",
       "      <th></th>\n",
       "    </tr>\n",
       "  </thead>\n",
       "  <tbody>\n",
       "    <tr>\n",
       "      <th rowspan=\"4\" valign=\"top\">Female</th>\n",
       "      <th>0</th>\n",
       "      <td>133</td>\n",
       "    </tr>\n",
       "    <tr>\n",
       "      <th>2</th>\n",
       "      <td>109</td>\n",
       "    </tr>\n",
       "    <tr>\n",
       "      <th>1</th>\n",
       "      <td>57</td>\n",
       "    </tr>\n",
       "    <tr>\n",
       "      <th>3</th>\n",
       "      <td>13</td>\n",
       "    </tr>\n",
       "    <tr>\n",
       "      <th rowspan=\"4\" valign=\"top\">Male</th>\n",
       "      <th>0</th>\n",
       "      <td>364</td>\n",
       "    </tr>\n",
       "    <tr>\n",
       "      <th>2</th>\n",
       "      <td>175</td>\n",
       "    </tr>\n",
       "    <tr>\n",
       "      <th>1</th>\n",
       "      <td>110</td>\n",
       "    </tr>\n",
       "    <tr>\n",
       "      <th>3</th>\n",
       "      <td>64</td>\n",
       "    </tr>\n",
       "  </tbody>\n",
       "</table>\n",
       "</div>"
      ],
      "text/plain": [
       "           value_counts\n",
       "sex    cp              \n",
       "Female 0            133\n",
       "       2            109\n",
       "       1             57\n",
       "       3             13\n",
       "Male   0            364\n",
       "       2            175\n",
       "       1            110\n",
       "       3             64"
      ]
     },
     "execution_count": 17,
     "metadata": {},
     "output_type": "execute_result"
    }
   ],
   "source": [
    "data.groupby(\"sex\")[\"cp\"].agg([\"value_counts\"])"
   ]
  },
  {
   "cell_type": "code",
   "execution_count": 18,
   "id": "e6a70216",
   "metadata": {
    "execution": {
     "iopub.execute_input": "2022-08-17T17:29:18.718185Z",
     "iopub.status.busy": "2022-08-17T17:29:18.717742Z",
     "iopub.status.idle": "2022-08-17T17:29:18.954710Z",
     "shell.execute_reply": "2022-08-17T17:29:18.953612Z"
    },
    "papermill": {
     "duration": 0.26809,
     "end_time": "2022-08-17T17:29:18.957555",
     "exception": false,
     "start_time": "2022-08-17T17:29:18.689465",
     "status": "completed"
    },
    "scrolled": true,
    "tags": []
   },
   "outputs": [
    {
     "data": {
      "image/png": "[encoded data removed]",
      "text/plain": [
       "<Figure size 432x288 with 1 Axes>"
      ]
     },
     "metadata": {},
     "output_type": "display_data"
    }
   ],
   "source": [
    "sns.countplot(x = \"cp\", data = data, hue = \"sex\");"
   ]
  },
  {
   "cell_type": "markdown",
   "id": "87ca45f1",
   "metadata": {
    "papermill": {
     "duration": 0.027097,
     "end_time": "2022-08-17T17:29:19.013077",
     "exception": false,
     "start_time": "2022-08-17T17:29:18.985980",
     "status": "completed"
    },
    "tags": []
   },
   "source": [
    "Insight: Most of the peoples are having  Typical angina chest pain. "
   ]
  },
  {
   "cell_type": "markdown",
   "id": "b8f9148b",
   "metadata": {
    "papermill": {
     "duration": 0.027294,
     "end_time": "2022-08-17T17:29:19.067669",
     "exception": false,
     "start_time": "2022-08-17T17:29:19.040375",
     "status": "completed"
    },
    "tags": []
   },
   "source": [
    "### Relation between Chest Pain vs Target "
   ]
  },
  {
   "cell_type": "code",
   "execution_count": 19,
   "id": "2f6f063a",
   "metadata": {
    "execution": {
     "iopub.execute_input": "2022-08-17T17:29:19.124535Z",
     "iopub.status.busy": "2022-08-17T17:29:19.124078Z",
     "iopub.status.idle": "2022-08-17T17:29:19.361810Z",
     "shell.execute_reply": "2022-08-17T17:29:19.360564Z"
    },
    "papermill": {
     "duration": 0.269354,
     "end_time": "2022-08-17T17:29:19.364516",
     "exception": false,
     "start_time": "2022-08-17T17:29:19.095162",
     "status": "completed"
    },
    "tags": []
   },
   "outputs": [
    {
     "data": {
      "image/png": "[encoded data removed]",
      "text/plain": [
       "<Figure size 432x288 with 1 Axes>"
      ]
     },
     "metadata": {},
     "output_type": "display_data"
    }
   ],
   "source": [
    "sns.countplot(x = \"cp\", data = data, hue = \"target\");"
   ]
  },
  {
   "cell_type": "markdown",
   "id": "94e01ae1",
   "metadata": {
    "papermill": {
     "duration": 0.02787,
     "end_time": "2022-08-17T17:29:19.420856",
     "exception": false,
     "start_time": "2022-08-17T17:29:19.392986",
     "status": "completed"
    },
    "tags": []
   },
   "source": [
    "Insight: Peoples having  Typical angina chest pain are more likely to have heart disease."
   ]
  },
  {
   "cell_type": "markdown",
   "id": "6d779e0e",
   "metadata": {
    "papermill": {
     "duration": 0.028064,
     "end_time": "2022-08-17T17:29:19.477246",
     "exception": false,
     "start_time": "2022-08-17T17:29:19.449182",
     "status": "completed"
    },
    "tags": []
   },
   "source": [
    "### Do Males and Females absorb glucose differently?"
   ]
  },
  {
   "cell_type": "code",
   "execution_count": 20,
   "id": "58c8d318",
   "metadata": {
    "execution": {
     "iopub.execute_input": "2022-08-17T17:29:19.535489Z",
     "iopub.status.busy": "2022-08-17T17:29:19.534785Z",
     "iopub.status.idle": "2022-08-17T17:29:19.547078Z",
     "shell.execute_reply": "2022-08-17T17:29:19.545938Z"
    },
    "papermill": {
     "duration": 0.04407,
     "end_time": "2022-08-17T17:29:19.549344",
     "exception": false,
     "start_time": "2022-08-17T17:29:19.505274",
     "status": "completed"
    },
    "tags": []
   },
   "outputs": [
    {
     "data": {
      "text/html": [
       "<div>\n",
       "<style scoped>\n",
       "    .dataframe tbody tr th:only-of-type {\n",
       "        vertical-align: middle;\n",
       "    }\n",
       "\n",
       "    .dataframe tbody tr th {\n",
       "        vertical-align: top;\n",
       "    }\n",
       "\n",
       "    .dataframe thead th {\n",
       "        text-align: right;\n",
       "    }\n",
       "</style>\n",
       "<table border=\"1\" class=\"dataframe\">\n",
       "  <thead>\n",
       "    <tr style=\"text-align: right;\">\n",
       "      <th></th>\n",
       "      <th></th>\n",
       "      <th>value_counts</th>\n",
       "    </tr>\n",
       "    <tr>\n",
       "      <th>sex</th>\n",
       "      <th>fbs</th>\n",
       "      <th></th>\n",
       "    </tr>\n",
       "  </thead>\n",
       "  <tbody>\n",
       "    <tr>\n",
       "      <th rowspan=\"2\" valign=\"top\">Female</th>\n",
       "      <th>0</th>\n",
       "      <td>270</td>\n",
       "    </tr>\n",
       "    <tr>\n",
       "      <th>1</th>\n",
       "      <td>42</td>\n",
       "    </tr>\n",
       "    <tr>\n",
       "      <th rowspan=\"2\" valign=\"top\">Male</th>\n",
       "      <th>0</th>\n",
       "      <td>602</td>\n",
       "    </tr>\n",
       "    <tr>\n",
       "      <th>1</th>\n",
       "      <td>111</td>\n",
       "    </tr>\n",
       "  </tbody>\n",
       "</table>\n",
       "</div>"
      ],
      "text/plain": [
       "            value_counts\n",
       "sex    fbs              \n",
       "Female 0             270\n",
       "       1              42\n",
       "Male   0             602\n",
       "       1             111"
      ]
     },
     "execution_count": 20,
     "metadata": {},
     "output_type": "execute_result"
    }
   ],
   "source": [
    "data.groupby([\"sex\"])[\"fbs\"].agg([\"value_counts\"])"
   ]
  },
  {
   "cell_type": "code",
   "execution_count": 21,
   "id": "cf16a9d9",
   "metadata": {
    "execution": {
     "iopub.execute_input": "2022-08-17T17:29:19.607181Z",
     "iopub.status.busy": "2022-08-17T17:29:19.606741Z",
     "iopub.status.idle": "2022-08-17T17:29:19.815502Z",
     "shell.execute_reply": "2022-08-17T17:29:19.814381Z"
    },
    "papermill": {
     "duration": 0.240393,
     "end_time": "2022-08-17T17:29:19.817804",
     "exception": false,
     "start_time": "2022-08-17T17:29:19.577411",
     "status": "completed"
    },
    "tags": []
   },
   "outputs": [
    {
     "data": {
      "image/png": "[encoded data removed]",
      "text/plain": [
       "<Figure size 432x288 with 1 Axes>"
      ]
     },
     "metadata": {},
     "output_type": "display_data"
    }
   ],
   "source": [
    "sns.countplot(x = \"fbs\", data = data, hue = \"sex\");"
   ]
  },
  {
   "cell_type": "markdown",
   "id": "419a97c7",
   "metadata": {
    "papermill": {
     "duration": 0.027531,
     "end_time": "2022-08-17T17:29:19.873181",
     "exception": false,
     "start_time": "2022-08-17T17:29:19.845650",
     "status": "completed"
    },
    "tags": []
   },
   "source": [
    "**Females** have lower fasting glucose than **Males**"
   ]
  },
  {
   "cell_type": "markdown",
   "id": "4e51e38e",
   "metadata": {
    "papermill": {
     "duration": 0.027369,
     "end_time": "2022-08-17T17:29:19.928117",
     "exception": false,
     "start_time": "2022-08-17T17:29:19.900748",
     "status": "completed"
    },
    "tags": []
   },
   "source": [
    "### Electrocardiographic relation with heart disease"
   ]
  },
  {
   "cell_type": "markdown",
   "id": "ecb5dd78",
   "metadata": {
    "papermill": {
     "duration": 0.027259,
     "end_time": "2022-08-17T17:29:19.982925",
     "exception": false,
     "start_time": "2022-08-17T17:29:19.955666",
     "status": "completed"
    },
    "tags": []
   },
   "source": [
    "-Value 0: normal\n",
    "\n",
    "-Value 1: having ST-T wave abnormality (T wave inversions and/or ST elevation or depression of > 0.05 mV)\n",
    "\n",
    "-Value 2: showing probable or definite left ventricular hypertrophy"
   ]
  },
  {
   "cell_type": "code",
   "execution_count": 22,
   "id": "5c0ad5de",
   "metadata": {
    "execution": {
     "iopub.execute_input": "2022-08-17T17:29:20.039892Z",
     "iopub.status.busy": "2022-08-17T17:29:20.039494Z",
     "iopub.status.idle": "2022-08-17T17:29:20.049898Z",
     "shell.execute_reply": "2022-08-17T17:29:20.049185Z"
    },
    "papermill": {
     "duration": 0.041295,
     "end_time": "2022-08-17T17:29:20.051840",
     "exception": false,
     "start_time": "2022-08-17T17:29:20.010545",
     "status": "completed"
    },
    "tags": []
   },
   "outputs": [
    {
     "data": {
      "text/html": [
       "<div>\n",
       "<style scoped>\n",
       "    .dataframe tbody tr th:only-of-type {\n",
       "        vertical-align: middle;\n",
       "    }\n",
       "\n",
       "    .dataframe tbody tr th {\n",
       "        vertical-align: top;\n",
       "    }\n",
       "\n",
       "    .dataframe thead th {\n",
       "        text-align: right;\n",
       "    }\n",
       "</style>\n",
       "<table border=\"1\" class=\"dataframe\">\n",
       "  <thead>\n",
       "    <tr style=\"text-align: right;\">\n",
       "      <th></th>\n",
       "      <th>count</th>\n",
       "    </tr>\n",
       "    <tr>\n",
       "      <th>restecg</th>\n",
       "      <th></th>\n",
       "    </tr>\n",
       "  </thead>\n",
       "  <tbody>\n",
       "    <tr>\n",
       "      <th>0</th>\n",
       "      <td>497</td>\n",
       "    </tr>\n",
       "    <tr>\n",
       "      <th>1</th>\n",
       "      <td>513</td>\n",
       "    </tr>\n",
       "    <tr>\n",
       "      <th>2</th>\n",
       "      <td>15</td>\n",
       "    </tr>\n",
       "  </tbody>\n",
       "</table>\n",
       "</div>"
      ],
      "text/plain": [
       "         count\n",
       "restecg       \n",
       "0          497\n",
       "1          513\n",
       "2           15"
      ]
     },
     "execution_count": 22,
     "metadata": {},
     "output_type": "execute_result"
    }
   ],
   "source": [
    "data.groupby(data[\"restecg\"])[\"target\"].agg([\"count\"])"
   ]
  },
  {
   "cell_type": "code",
   "execution_count": 23,
   "id": "e29ec341",
   "metadata": {
    "execution": {
     "iopub.execute_input": "2022-08-17T17:29:20.109625Z",
     "iopub.status.busy": "2022-08-17T17:29:20.108656Z",
     "iopub.status.idle": "2022-08-17T17:29:20.325616Z",
     "shell.execute_reply": "2022-08-17T17:29:20.324836Z"
    },
    "papermill": {
     "duration": 0.248294,
     "end_time": "2022-08-17T17:29:20.327869",
     "exception": false,
     "start_time": "2022-08-17T17:29:20.079575",
     "status": "completed"
    },
    "scrolled": true,
    "tags": []
   },
   "outputs": [
    {
     "data": {
      "image/png": "[encoded data removed]",
      "text/plain": [
       "<Figure size 432x288 with 1 Axes>"
      ]
     },
     "metadata": {},
     "output_type": "display_data"
    }
   ],
   "source": [
    "sns.countplot(x = \"restecg\", data = data, hue = \"target\");"
   ]
  },
  {
   "cell_type": "markdown",
   "id": "88704670",
   "metadata": {
    "papermill": {
     "duration": 0.027994,
     "end_time": "2022-08-17T17:29:20.384587",
     "exception": false,
     "start_time": "2022-08-17T17:29:20.356593",
     "status": "completed"
    },
    "tags": []
   },
   "source": [
    "Insight:The persons having ST-T wave abnormality resting electrocardiographic are more likely to have heart disease"
   ]
  },
  {
   "cell_type": "markdown",
   "id": "733da917",
   "metadata": {
    "papermill": {
     "duration": 0.02764,
     "end_time": "2022-08-17T17:29:20.440291",
     "exception": false,
     "start_time": "2022-08-17T17:29:20.412651",
     "status": "completed"
    },
    "tags": []
   },
   "source": [
    "### Thalach(maximum heart rate achieved) is related with target?"
   ]
  },
  {
   "cell_type": "code",
   "execution_count": 24,
   "id": "c2ee7f94",
   "metadata": {
    "execution": {
     "iopub.execute_input": "2022-08-17T17:29:20.498786Z",
     "iopub.status.busy": "2022-08-17T17:29:20.498100Z",
     "iopub.status.idle": "2022-08-17T17:29:21.509101Z",
     "shell.execute_reply": "2022-08-17T17:29:21.507842Z"
    },
    "papermill": {
     "duration": 1.043578,
     "end_time": "2022-08-17T17:29:21.511540",
     "exception": false,
     "start_time": "2022-08-17T17:29:20.467962",
     "status": "completed"
    },
    "tags": []
   },
   "outputs": [
    {
     "name": "stderr",
     "output_type": "stream",
     "text": [
      "/opt/conda/lib/python3.7/site-packages/seaborn/categorical.py:1296: UserWarning: 6.6% of the points cannot be placed; you may want to decrease the size of the markers or use stripplot.\n",
      "  warnings.warn(msg, UserWarning)\n",
      "/opt/conda/lib/python3.7/site-packages/seaborn/categorical.py:1296: UserWarning: 15.8% of the points cannot be placed; you may want to decrease the size of the markers or use stripplot.\n",
      "  warnings.warn(msg, UserWarning)\n"
     ]
    },
    {
     "data": {
      "text/plain": [
       "<seaborn.axisgrid.FacetGrid at 0x7f9fac50dc50>"
      ]
     },
     "execution_count": 24,
     "metadata": {},
     "output_type": "execute_result"
    },
    {
     "data": {
      "image/png": "[encoded data removed]",
      "text/plain": [
       "<Figure size 360x360 with 1 Axes>"
      ]
     },
     "metadata": {},
     "output_type": "display_data"
    }
   ],
   "source": [
    "sns.catplot(x=\"target\",y=\"thalach\",data=data,kind=\"swarm\")"
   ]
  },
  {
   "cell_type": "markdown",
   "id": "fad78e0d",
   "metadata": {
    "papermill": {
     "duration": 0.029727,
     "end_time": "2022-08-17T17:29:21.570869",
     "exception": false,
     "start_time": "2022-08-17T17:29:21.541142",
     "status": "completed"
    },
    "tags": []
   },
   "source": [
    "Insight: people having heart rate between 140 to 180 are more likely to have a heart disease."
   ]
  },
  {
   "cell_type": "markdown",
   "id": "e0193047",
   "metadata": {
    "papermill": {
     "duration": 0.029487,
     "end_time": "2022-08-17T17:29:21.630392",
     "exception": false,
     "start_time": "2022-08-17T17:29:21.600905",
     "status": "completed"
    },
    "tags": []
   },
   "source": [
    "### Gender related differences in Electrocardiographic parameters"
   ]
  },
  {
   "cell_type": "code",
   "execution_count": 25,
   "id": "4df4fff7",
   "metadata": {
    "execution": {
     "iopub.execute_input": "2022-08-17T17:29:21.692496Z",
     "iopub.status.busy": "2022-08-17T17:29:21.692101Z",
     "iopub.status.idle": "2022-08-17T17:29:21.704284Z",
     "shell.execute_reply": "2022-08-17T17:29:21.703172Z"
    },
    "papermill": {
     "duration": 0.046152,
     "end_time": "2022-08-17T17:29:21.706428",
     "exception": false,
     "start_time": "2022-08-17T17:29:21.660276",
     "status": "completed"
    },
    "scrolled": true,
    "tags": []
   },
   "outputs": [
    {
     "data": {
      "text/html": [
       "<div>\n",
       "<style scoped>\n",
       "    .dataframe tbody tr th:only-of-type {\n",
       "        vertical-align: middle;\n",
       "    }\n",
       "\n",
       "    .dataframe tbody tr th {\n",
       "        vertical-align: top;\n",
       "    }\n",
       "\n",
       "    .dataframe thead th {\n",
       "        text-align: right;\n",
       "    }\n",
       "</style>\n",
       "<table border=\"1\" class=\"dataframe\">\n",
       "  <thead>\n",
       "    <tr style=\"text-align: right;\">\n",
       "      <th></th>\n",
       "      <th></th>\n",
       "      <th>value_counts</th>\n",
       "    </tr>\n",
       "    <tr>\n",
       "      <th>sex</th>\n",
       "      <th>restecg</th>\n",
       "      <th></th>\n",
       "    </tr>\n",
       "  </thead>\n",
       "  <tbody>\n",
       "    <tr>\n",
       "      <th rowspan=\"3\" valign=\"top\">Female</th>\n",
       "      <th>1</th>\n",
       "      <td>157</td>\n",
       "    </tr>\n",
       "    <tr>\n",
       "      <th>0</th>\n",
       "      <td>144</td>\n",
       "    </tr>\n",
       "    <tr>\n",
       "      <th>2</th>\n",
       "      <td>11</td>\n",
       "    </tr>\n",
       "    <tr>\n",
       "      <th rowspan=\"3\" valign=\"top\">Male</th>\n",
       "      <th>1</th>\n",
       "      <td>356</td>\n",
       "    </tr>\n",
       "    <tr>\n",
       "      <th>0</th>\n",
       "      <td>353</td>\n",
       "    </tr>\n",
       "    <tr>\n",
       "      <th>2</th>\n",
       "      <td>4</td>\n",
       "    </tr>\n",
       "  </tbody>\n",
       "</table>\n",
       "</div>"
      ],
      "text/plain": [
       "                value_counts\n",
       "sex    restecg              \n",
       "Female 1                 157\n",
       "       0                 144\n",
       "       2                  11\n",
       "Male   1                 356\n",
       "       0                 353\n",
       "       2                   4"
      ]
     },
     "execution_count": 25,
     "metadata": {},
     "output_type": "execute_result"
    }
   ],
   "source": [
    "data.groupby([\"sex\"])[\"restecg\"].agg([\"value_counts\"])"
   ]
  },
  {
   "cell_type": "markdown",
   "id": "7e41b302",
   "metadata": {
    "papermill": {
     "duration": 0.029546,
     "end_time": "2022-08-17T17:29:21.765498",
     "exception": false,
     "start_time": "2022-08-17T17:29:21.735952",
     "status": "completed"
    },
    "tags": []
   },
   "source": [
    "### How does gender affect angina?"
   ]
  },
  {
   "cell_type": "code",
   "execution_count": 26,
   "id": "4a11aff6",
   "metadata": {
    "execution": {
     "iopub.execute_input": "2022-08-17T17:29:21.827641Z",
     "iopub.status.busy": "2022-08-17T17:29:21.827003Z",
     "iopub.status.idle": "2022-08-17T17:29:21.838462Z",
     "shell.execute_reply": "2022-08-17T17:29:21.837700Z"
    },
    "papermill": {
     "duration": 0.044376,
     "end_time": "2022-08-17T17:29:21.840298",
     "exception": false,
     "start_time": "2022-08-17T17:29:21.795922",
     "status": "completed"
    },
    "tags": []
   },
   "outputs": [
    {
     "data": {
      "text/html": [
       "<div>\n",
       "<style scoped>\n",
       "    .dataframe tbody tr th:only-of-type {\n",
       "        vertical-align: middle;\n",
       "    }\n",
       "\n",
       "    .dataframe tbody tr th {\n",
       "        vertical-align: top;\n",
       "    }\n",
       "\n",
       "    .dataframe thead th {\n",
       "        text-align: right;\n",
       "    }\n",
       "</style>\n",
       "<table border=\"1\" class=\"dataframe\">\n",
       "  <thead>\n",
       "    <tr style=\"text-align: right;\">\n",
       "      <th></th>\n",
       "      <th></th>\n",
       "      <th>value_counts</th>\n",
       "    </tr>\n",
       "    <tr>\n",
       "      <th>sex</th>\n",
       "      <th>exang</th>\n",
       "      <th></th>\n",
       "    </tr>\n",
       "  </thead>\n",
       "  <tbody>\n",
       "    <tr>\n",
       "      <th rowspan=\"2\" valign=\"top\">Female</th>\n",
       "      <th>0</th>\n",
       "      <td>238</td>\n",
       "    </tr>\n",
       "    <tr>\n",
       "      <th>1</th>\n",
       "      <td>74</td>\n",
       "    </tr>\n",
       "    <tr>\n",
       "      <th rowspan=\"2\" valign=\"top\">Male</th>\n",
       "      <th>0</th>\n",
       "      <td>442</td>\n",
       "    </tr>\n",
       "    <tr>\n",
       "      <th>1</th>\n",
       "      <td>271</td>\n",
       "    </tr>\n",
       "  </tbody>\n",
       "</table>\n",
       "</div>"
      ],
      "text/plain": [
       "              value_counts\n",
       "sex    exang              \n",
       "Female 0               238\n",
       "       1                74\n",
       "Male   0               442\n",
       "       1               271"
      ]
     },
     "execution_count": 26,
     "metadata": {},
     "output_type": "execute_result"
    }
   ],
   "source": [
    "data.groupby([\"sex\"])[\"exang\"].agg([\"value_counts\"])"
   ]
  },
  {
   "cell_type": "code",
   "execution_count": 27,
   "id": "4b854d49",
   "metadata": {
    "execution": {
     "iopub.execute_input": "2022-08-17T17:29:21.902356Z",
     "iopub.status.busy": "2022-08-17T17:29:21.901701Z",
     "iopub.status.idle": "2022-08-17T17:29:22.102176Z",
     "shell.execute_reply": "2022-08-17T17:29:22.101045Z"
    },
    "papermill": {
     "duration": 0.234276,
     "end_time": "2022-08-17T17:29:22.104495",
     "exception": false,
     "start_time": "2022-08-17T17:29:21.870219",
     "status": "completed"
    },
    "scrolled": true,
    "tags": []
   },
   "outputs": [
    {
     "data": {
      "image/png": "[encoded data removed]",
      "text/plain": [
       "<Figure size 432x288 with 1 Axes>"
      ]
     },
     "metadata": {},
     "output_type": "display_data"
    }
   ],
   "source": [
    "sns.countplot(x = \"exang\", data = data, hue = \"sex\");"
   ]
  },
  {
   "cell_type": "markdown",
   "id": "70fb3190",
   "metadata": {
    "papermill": {
     "duration": 0.029827,
     "end_time": "2022-08-17T17:29:22.164717",
     "exception": false,
     "start_time": "2022-08-17T17:29:22.134890",
     "status": "completed"
    },
    "tags": []
   },
   "source": [
    "Although the prevalence of **angina** in females is increasing, **Females** are less likely than **Males** to undergo invasive management of coronary disease"
   ]
  },
  {
   "cell_type": "markdown",
   "id": "ad150170",
   "metadata": {
    "papermill": {
     "duration": 0.029685,
     "end_time": "2022-08-17T17:29:22.224491",
     "exception": false,
     "start_time": "2022-08-17T17:29:22.194806",
     "status": "completed"
    },
    "tags": []
   },
   "source": [
    "# How agina is related with heart disease?"
   ]
  },
  {
   "cell_type": "code",
   "execution_count": 28,
   "id": "3cace2fb",
   "metadata": {
    "execution": {
     "iopub.execute_input": "2022-08-17T17:29:22.286783Z",
     "iopub.status.busy": "2022-08-17T17:29:22.286371Z",
     "iopub.status.idle": "2022-08-17T17:29:22.298838Z",
     "shell.execute_reply": "2022-08-17T17:29:22.297711Z"
    },
    "papermill": {
     "duration": 0.045925,
     "end_time": "2022-08-17T17:29:22.301032",
     "exception": false,
     "start_time": "2022-08-17T17:29:22.255107",
     "status": "completed"
    },
    "scrolled": true,
    "tags": []
   },
   "outputs": [
    {
     "data": {
      "text/html": [
       "<div>\n",
       "<style scoped>\n",
       "    .dataframe tbody tr th:only-of-type {\n",
       "        vertical-align: middle;\n",
       "    }\n",
       "\n",
       "    .dataframe tbody tr th {\n",
       "        vertical-align: top;\n",
       "    }\n",
       "\n",
       "    .dataframe thead th {\n",
       "        text-align: right;\n",
       "    }\n",
       "</style>\n",
       "<table border=\"1\" class=\"dataframe\">\n",
       "  <thead>\n",
       "    <tr style=\"text-align: right;\">\n",
       "      <th></th>\n",
       "      <th></th>\n",
       "      <th>value_counts</th>\n",
       "    </tr>\n",
       "    <tr>\n",
       "      <th>target</th>\n",
       "      <th>exang</th>\n",
       "      <th></th>\n",
       "    </tr>\n",
       "  </thead>\n",
       "  <tbody>\n",
       "    <tr>\n",
       "      <th rowspan=\"2\" valign=\"top\">0</th>\n",
       "      <th>1</th>\n",
       "      <td>274</td>\n",
       "    </tr>\n",
       "    <tr>\n",
       "      <th>0</th>\n",
       "      <td>225</td>\n",
       "    </tr>\n",
       "    <tr>\n",
       "      <th rowspan=\"2\" valign=\"top\">1</th>\n",
       "      <th>0</th>\n",
       "      <td>455</td>\n",
       "    </tr>\n",
       "    <tr>\n",
       "      <th>1</th>\n",
       "      <td>71</td>\n",
       "    </tr>\n",
       "  </tbody>\n",
       "</table>\n",
       "</div>"
      ],
      "text/plain": [
       "              value_counts\n",
       "target exang              \n",
       "0      1               274\n",
       "       0               225\n",
       "1      0               455\n",
       "       1                71"
      ]
     },
     "execution_count": 28,
     "metadata": {},
     "output_type": "execute_result"
    }
   ],
   "source": [
    "data.groupby([\"target\"])[\"exang\"].agg([\"value_counts\"])"
   ]
  },
  {
   "cell_type": "code",
   "execution_count": 29,
   "id": "fcf49872",
   "metadata": {
    "execution": {
     "iopub.execute_input": "2022-08-17T17:29:22.364495Z",
     "iopub.status.busy": "2022-08-17T17:29:22.364014Z",
     "iopub.status.idle": "2022-08-17T17:29:22.561508Z",
     "shell.execute_reply": "2022-08-17T17:29:22.560381Z"
    },
    "papermill": {
     "duration": 0.23213,
     "end_time": "2022-08-17T17:29:22.563795",
     "exception": false,
     "start_time": "2022-08-17T17:29:22.331665",
     "status": "completed"
    },
    "tags": []
   },
   "outputs": [
    {
     "data": {
      "image/png": "[encoded data removed]",
      "text/plain": [
       "<Figure size 432x288 with 1 Axes>"
      ]
     },
     "metadata": {},
     "output_type": "display_data"
    }
   ],
   "source": [
    "sns.countplot(x = \"exang\", data = data, hue = \"target\");"
   ]
  },
  {
   "cell_type": "markdown",
   "id": "67b4c9ed",
   "metadata": {
    "papermill": {
     "duration": 0.031417,
     "end_time": "2022-08-17T17:29:22.625894",
     "exception": false,
     "start_time": "2022-08-17T17:29:22.594477",
     "status": "completed"
    },
    "tags": []
   },
   "source": [
    "Insight :The persons having Exercise induced angina are less likely to have heart disease."
   ]
  },
  {
   "cell_type": "markdown",
   "id": "65f9833a",
   "metadata": {
    "papermill": {
     "duration": 0.034654,
     "end_time": "2022-08-17T17:29:22.691226",
     "exception": false,
     "start_time": "2022-08-17T17:29:22.656572",
     "status": "completed"
    },
    "tags": []
   },
   "source": [
    "### Is gender a risk factor for Coronary Artery Disease?"
   ]
  },
  {
   "cell_type": "code",
   "execution_count": 30,
   "id": "b698ce39",
   "metadata": {
    "execution": {
     "iopub.execute_input": "2022-08-17T17:29:22.754346Z",
     "iopub.status.busy": "2022-08-17T17:29:22.753589Z",
     "iopub.status.idle": "2022-08-17T17:29:22.766274Z",
     "shell.execute_reply": "2022-08-17T17:29:22.765279Z"
    },
    "papermill": {
     "duration": 0.046868,
     "end_time": "2022-08-17T17:29:22.768500",
     "exception": false,
     "start_time": "2022-08-17T17:29:22.721632",
     "status": "completed"
    },
    "tags": []
   },
   "outputs": [
    {
     "data": {
      "text/html": [
       "<div>\n",
       "<style scoped>\n",
       "    .dataframe tbody tr th:only-of-type {\n",
       "        vertical-align: middle;\n",
       "    }\n",
       "\n",
       "    .dataframe tbody tr th {\n",
       "        vertical-align: top;\n",
       "    }\n",
       "\n",
       "    .dataframe thead th {\n",
       "        text-align: right;\n",
       "    }\n",
       "</style>\n",
       "<table border=\"1\" class=\"dataframe\">\n",
       "  <thead>\n",
       "    <tr style=\"text-align: right;\">\n",
       "      <th></th>\n",
       "      <th></th>\n",
       "      <th>value_counts</th>\n",
       "    </tr>\n",
       "    <tr>\n",
       "      <th>sex</th>\n",
       "      <th>ca</th>\n",
       "      <th></th>\n",
       "    </tr>\n",
       "  </thead>\n",
       "  <tbody>\n",
       "    <tr>\n",
       "      <th rowspan=\"4\" valign=\"top\">Female</th>\n",
       "      <th>0</th>\n",
       "      <td>204</td>\n",
       "    </tr>\n",
       "    <tr>\n",
       "      <th>1</th>\n",
       "      <td>49</td>\n",
       "    </tr>\n",
       "    <tr>\n",
       "      <th>2</th>\n",
       "      <td>45</td>\n",
       "    </tr>\n",
       "    <tr>\n",
       "      <th>3</th>\n",
       "      <td>14</td>\n",
       "    </tr>\n",
       "    <tr>\n",
       "      <th rowspan=\"5\" valign=\"top\">Male</th>\n",
       "      <th>0</th>\n",
       "      <td>374</td>\n",
       "    </tr>\n",
       "    <tr>\n",
       "      <th>1</th>\n",
       "      <td>177</td>\n",
       "    </tr>\n",
       "    <tr>\n",
       "      <th>2</th>\n",
       "      <td>89</td>\n",
       "    </tr>\n",
       "    <tr>\n",
       "      <th>3</th>\n",
       "      <td>55</td>\n",
       "    </tr>\n",
       "    <tr>\n",
       "      <th>4</th>\n",
       "      <td>18</td>\n",
       "    </tr>\n",
       "  </tbody>\n",
       "</table>\n",
       "</div>"
      ],
      "text/plain": [
       "           value_counts\n",
       "sex    ca              \n",
       "Female 0            204\n",
       "       1             49\n",
       "       2             45\n",
       "       3             14\n",
       "Male   0            374\n",
       "       1            177\n",
       "       2             89\n",
       "       3             55\n",
       "       4             18"
      ]
     },
     "execution_count": 30,
     "metadata": {},
     "output_type": "execute_result"
    }
   ],
   "source": [
    "data.groupby([\"sex\"])[\"ca\"].agg([\"value_counts\"])"
   ]
  },
  {
   "cell_type": "code",
   "execution_count": 31,
   "id": "f1873ad6",
   "metadata": {
    "execution": {
     "iopub.execute_input": "2022-08-17T17:29:22.832590Z",
     "iopub.status.busy": "2022-08-17T17:29:22.831987Z",
     "iopub.status.idle": "2022-08-17T17:29:23.085780Z",
     "shell.execute_reply": "2022-08-17T17:29:23.084589Z"
    },
    "papermill": {
     "duration": 0.289082,
     "end_time": "2022-08-17T17:29:23.088353",
     "exception": false,
     "start_time": "2022-08-17T17:29:22.799271",
     "status": "completed"
    },
    "tags": []
   },
   "outputs": [
    {
     "data": {
      "image/png": "[encoded data removed]",
      "text/plain": [
       "<Figure size 432x288 with 1 Axes>"
      ]
     },
     "metadata": {},
     "output_type": "display_data"
    }
   ],
   "source": [
    "sns.countplot(x = \"ca\", data = data, hue = \"sex\");"
   ]
  },
  {
   "cell_type": "markdown",
   "id": "509b1296",
   "metadata": {
    "papermill": {
     "duration": 0.03984,
     "end_time": "2022-08-17T17:29:23.159686",
     "exception": false,
     "start_time": "2022-08-17T17:29:23.119846",
     "status": "completed"
    },
    "tags": []
   },
   "source": [
    "**Males** have a higher propensity of developing **Coronary Artery Disease (CAD)** than **Females**"
   ]
  },
  {
   "cell_type": "markdown",
   "id": "c4aa9caa",
   "metadata": {
    "papermill": {
     "duration": 0.03071,
     "end_time": "2022-08-17T17:29:23.221821",
     "exception": false,
     "start_time": "2022-08-17T17:29:23.191111",
     "status": "completed"
    },
    "tags": []
   },
   "source": [
    "### Thalassemia Classification"
   ]
  },
  {
   "cell_type": "markdown",
   "id": "0c704ef1",
   "metadata": {
    "papermill": {
     "duration": 0.030627,
     "end_time": "2022-08-17T17:29:23.283491",
     "exception": false,
     "start_time": "2022-08-17T17:29:23.252864",
     "status": "completed"
    },
    "tags": []
   },
   "source": [
    "# value 0: Null\n",
    "\n",
    "Value 1: normal blood flow\n",
    "\n",
    "Value 2: fixed defect (no blood flow in some part of the heart)\n",
    "\n",
    "Value 3: reversible defect (a blood flow is observed but it is not normal)"
   ]
  },
  {
   "cell_type": "markdown",
   "id": "0fb5f160",
   "metadata": {
    "papermill": {
     "duration": 0.03085,
     "end_time": "2022-08-17T17:29:23.345474",
     "exception": false,
     "start_time": "2022-08-17T17:29:23.314624",
     "status": "completed"
    },
    "tags": []
   },
   "source": [
    "# How Thalassemia is related with heart disease."
   ]
  },
  {
   "cell_type": "code",
   "execution_count": 32,
   "id": "5c99862b",
   "metadata": {
    "execution": {
     "iopub.execute_input": "2022-08-17T17:29:23.410309Z",
     "iopub.status.busy": "2022-08-17T17:29:23.409720Z",
     "iopub.status.idle": "2022-08-17T17:29:23.421581Z",
     "shell.execute_reply": "2022-08-17T17:29:23.420782Z"
    },
    "papermill": {
     "duration": 0.046904,
     "end_time": "2022-08-17T17:29:23.423603",
     "exception": false,
     "start_time": "2022-08-17T17:29:23.376699",
     "status": "completed"
    },
    "scrolled": true,
    "tags": []
   },
   "outputs": [
    {
     "data": {
      "text/html": [
       "<div>\n",
       "<style scoped>\n",
       "    .dataframe tbody tr th:only-of-type {\n",
       "        vertical-align: middle;\n",
       "    }\n",
       "\n",
       "    .dataframe tbody tr th {\n",
       "        vertical-align: top;\n",
       "    }\n",
       "\n",
       "    .dataframe thead th {\n",
       "        text-align: right;\n",
       "    }\n",
       "</style>\n",
       "<table border=\"1\" class=\"dataframe\">\n",
       "  <thead>\n",
       "    <tr style=\"text-align: right;\">\n",
       "      <th></th>\n",
       "      <th></th>\n",
       "      <th>value_counts</th>\n",
       "    </tr>\n",
       "    <tr>\n",
       "      <th>thal</th>\n",
       "      <th>target</th>\n",
       "      <th></th>\n",
       "    </tr>\n",
       "  </thead>\n",
       "  <tbody>\n",
       "    <tr>\n",
       "      <th rowspan=\"2\" valign=\"top\">0</th>\n",
       "      <th>0</th>\n",
       "      <td>4</td>\n",
       "    </tr>\n",
       "    <tr>\n",
       "      <th>1</th>\n",
       "      <td>3</td>\n",
       "    </tr>\n",
       "    <tr>\n",
       "      <th rowspan=\"2\" valign=\"top\">1</th>\n",
       "      <th>0</th>\n",
       "      <td>43</td>\n",
       "    </tr>\n",
       "    <tr>\n",
       "      <th>1</th>\n",
       "      <td>21</td>\n",
       "    </tr>\n",
       "    <tr>\n",
       "      <th rowspan=\"2\" valign=\"top\">2</th>\n",
       "      <th>1</th>\n",
       "      <td>412</td>\n",
       "    </tr>\n",
       "    <tr>\n",
       "      <th>0</th>\n",
       "      <td>132</td>\n",
       "    </tr>\n",
       "    <tr>\n",
       "      <th rowspan=\"2\" valign=\"top\">3</th>\n",
       "      <th>0</th>\n",
       "      <td>320</td>\n",
       "    </tr>\n",
       "    <tr>\n",
       "      <th>1</th>\n",
       "      <td>90</td>\n",
       "    </tr>\n",
       "  </tbody>\n",
       "</table>\n",
       "</div>"
      ],
      "text/plain": [
       "             value_counts\n",
       "thal target              \n",
       "0    0                  4\n",
       "     1                  3\n",
       "1    0                 43\n",
       "     1                 21\n",
       "2    1                412\n",
       "     0                132\n",
       "3    0                320\n",
       "     1                 90"
      ]
     },
     "execution_count": 32,
     "metadata": {},
     "output_type": "execute_result"
    }
   ],
   "source": [
    "data.groupby([\"thal\"])[\"target\"].agg([\"value_counts\"])"
   ]
  },
  {
   "cell_type": "code",
   "execution_count": 33,
   "id": "1b9baa5f",
   "metadata": {
    "execution": {
     "iopub.execute_input": "2022-08-17T17:29:23.488850Z",
     "iopub.status.busy": "2022-08-17T17:29:23.488118Z",
     "iopub.status.idle": "2022-08-17T17:29:23.723942Z",
     "shell.execute_reply": "2022-08-17T17:29:23.722802Z"
    },
    "papermill": {
     "duration": 0.271213,
     "end_time": "2022-08-17T17:29:23.726404",
     "exception": false,
     "start_time": "2022-08-17T17:29:23.455191",
     "status": "completed"
    },
    "tags": []
   },
   "outputs": [
    {
     "data": {
      "image/png": "[encoded data removed]",
      "text/plain": [
       "<Figure size 432x288 with 1 Axes>"
      ]
     },
     "metadata": {},
     "output_type": "display_data"
    }
   ],
   "source": [
    "sns.countplot(x = \"thal\", data = data, hue = \"sex\");"
   ]
  },
  {
   "cell_type": "markdown",
   "id": "61b04d0d",
   "metadata": {
    "papermill": {
     "duration": 0.031337,
     "end_time": "2022-08-17T17:29:23.789318",
     "exception": false,
     "start_time": "2022-08-17T17:29:23.757981",
     "status": "completed"
    },
    "tags": []
   },
   "source": [
    "### Is Thalassemia more common in Males or Females?"
   ]
  },
  {
   "cell_type": "code",
   "execution_count": 34,
   "id": "c92d7066",
   "metadata": {
    "execution": {
     "iopub.execute_input": "2022-08-17T17:29:23.855664Z",
     "iopub.status.busy": "2022-08-17T17:29:23.855278Z",
     "iopub.status.idle": "2022-08-17T17:29:23.868512Z",
     "shell.execute_reply": "2022-08-17T17:29:23.867554Z"
    },
    "papermill": {
     "duration": 0.049942,
     "end_time": "2022-08-17T17:29:23.870981",
     "exception": false,
     "start_time": "2022-08-17T17:29:23.821039",
     "status": "completed"
    },
    "tags": []
   },
   "outputs": [
    {
     "data": {
      "text/html": [
       "<div>\n",
       "<style scoped>\n",
       "    .dataframe tbody tr th:only-of-type {\n",
       "        vertical-align: middle;\n",
       "    }\n",
       "\n",
       "    .dataframe tbody tr th {\n",
       "        vertical-align: top;\n",
       "    }\n",
       "\n",
       "    .dataframe thead th {\n",
       "        text-align: right;\n",
       "    }\n",
       "</style>\n",
       "<table border=\"1\" class=\"dataframe\">\n",
       "  <thead>\n",
       "    <tr style=\"text-align: right;\">\n",
       "      <th></th>\n",
       "      <th></th>\n",
       "      <th>value_counts</th>\n",
       "    </tr>\n",
       "    <tr>\n",
       "      <th>sex</th>\n",
       "      <th>thal</th>\n",
       "      <th></th>\n",
       "    </tr>\n",
       "  </thead>\n",
       "  <tbody>\n",
       "    <tr>\n",
       "      <th rowspan=\"4\" valign=\"top\">Female</th>\n",
       "      <th>2</th>\n",
       "      <td>252</td>\n",
       "    </tr>\n",
       "    <tr>\n",
       "      <th>3</th>\n",
       "      <td>53</td>\n",
       "    </tr>\n",
       "    <tr>\n",
       "      <th>1</th>\n",
       "      <td>4</td>\n",
       "    </tr>\n",
       "    <tr>\n",
       "      <th>0</th>\n",
       "      <td>3</td>\n",
       "    </tr>\n",
       "    <tr>\n",
       "      <th rowspan=\"4\" valign=\"top\">Male</th>\n",
       "      <th>3</th>\n",
       "      <td>357</td>\n",
       "    </tr>\n",
       "    <tr>\n",
       "      <th>2</th>\n",
       "      <td>292</td>\n",
       "    </tr>\n",
       "    <tr>\n",
       "      <th>1</th>\n",
       "      <td>60</td>\n",
       "    </tr>\n",
       "    <tr>\n",
       "      <th>0</th>\n",
       "      <td>4</td>\n",
       "    </tr>\n",
       "  </tbody>\n",
       "</table>\n",
       "</div>"
      ],
      "text/plain": [
       "             value_counts\n",
       "sex    thal              \n",
       "Female 2              252\n",
       "       3               53\n",
       "       1                4\n",
       "       0                3\n",
       "Male   3              357\n",
       "       2              292\n",
       "       1               60\n",
       "       0                4"
      ]
     },
     "execution_count": 34,
     "metadata": {},
     "output_type": "execute_result"
    }
   ],
   "source": [
    "data.groupby([\"sex\"])[\"thal\"].agg([\"value_counts\"])"
   ]
  },
  {
   "cell_type": "code",
   "execution_count": 35,
   "id": "522bfcb8",
   "metadata": {
    "execution": {
     "iopub.execute_input": "2022-08-17T17:29:23.936389Z",
     "iopub.status.busy": "2022-08-17T17:29:23.935972Z",
     "iopub.status.idle": "2022-08-17T17:29:24.176097Z",
     "shell.execute_reply": "2022-08-17T17:29:24.174898Z"
    },
    "papermill": {
     "duration": 0.275747,
     "end_time": "2022-08-17T17:29:24.178590",
     "exception": false,
     "start_time": "2022-08-17T17:29:23.902843",
     "status": "completed"
    },
    "scrolled": true,
    "tags": []
   },
   "outputs": [
    {
     "data": {
      "image/png": "[encoded data removed]",
      "text/plain": [
       "<Figure size 432x288 with 1 Axes>"
      ]
     },
     "metadata": {},
     "output_type": "display_data"
    }
   ],
   "source": [
    "sns.countplot(x = \"thal\", data = data, hue = \"sex\");"
   ]
  },
  {
   "cell_type": "markdown",
   "id": "529ae8ca",
   "metadata": {
    "papermill": {
     "duration": 0.032175,
     "end_time": "2022-08-17T17:29:24.243082",
     "exception": false,
     "start_time": "2022-08-17T17:29:24.210907",
     "status": "completed"
    },
    "tags": []
   },
   "source": [
    "- Thalassemia can affect both **Male** and **Female**\n",
    "- **Male** patients are more frequently affected than **Females**"
   ]
  },
  {
   "cell_type": "code",
   "execution_count": null,
   "id": "24071cbd",
   "metadata": {
    "papermill": {
     "duration": 0.031571,
     "end_time": "2022-08-17T17:29:24.306786",
     "exception": false,
     "start_time": "2022-08-17T17:29:24.275215",
     "status": "completed"
    },
    "tags": []
   },
   "outputs": [],
   "source": []
  },
  {
   "cell_type": "markdown",
   "id": "c98327df",
   "metadata": {
    "papermill": {
     "duration": 0.032195,
     "end_time": "2022-08-17T17:29:24.370696",
     "exception": false,
     "start_time": "2022-08-17T17:29:24.338501",
     "status": "completed"
    },
    "tags": []
   },
   "source": [
    "### How many '0' and '1' we have in our Dependent Variable"
   ]
  },
  {
   "cell_type": "code",
   "execution_count": 36,
   "id": "23c99198",
   "metadata": {
    "execution": {
     "iopub.execute_input": "2022-08-17T17:29:24.437158Z",
     "iopub.status.busy": "2022-08-17T17:29:24.436037Z",
     "iopub.status.idle": "2022-08-17T17:29:24.446049Z",
     "shell.execute_reply": "2022-08-17T17:29:24.445319Z"
    },
    "papermill": {
     "duration": 0.045215,
     "end_time": "2022-08-17T17:29:24.447915",
     "exception": false,
     "start_time": "2022-08-17T17:29:24.402700",
     "status": "completed"
    },
    "tags": []
   },
   "outputs": [
    {
     "data": {
      "text/html": [
       "<div>\n",
       "<style scoped>\n",
       "    .dataframe tbody tr th:only-of-type {\n",
       "        vertical-align: middle;\n",
       "    }\n",
       "\n",
       "    .dataframe tbody tr th {\n",
       "        vertical-align: top;\n",
       "    }\n",
       "\n",
       "    .dataframe thead th {\n",
       "        text-align: right;\n",
       "    }\n",
       "</style>\n",
       "<table border=\"1\" class=\"dataframe\">\n",
       "  <thead>\n",
       "    <tr style=\"text-align: right;\">\n",
       "      <th></th>\n",
       "      <th>value_counts</th>\n",
       "    </tr>\n",
       "  </thead>\n",
       "  <tbody>\n",
       "    <tr>\n",
       "      <th>1</th>\n",
       "      <td>526</td>\n",
       "    </tr>\n",
       "    <tr>\n",
       "      <th>0</th>\n",
       "      <td>499</td>\n",
       "    </tr>\n",
       "  </tbody>\n",
       "</table>\n",
       "</div>"
      ],
      "text/plain": [
       "   value_counts\n",
       "1           526\n",
       "0           499"
      ]
     },
     "execution_count": 36,
     "metadata": {},
     "output_type": "execute_result"
    }
   ],
   "source": [
    "data[\"target\"].agg([\"value_counts\"])"
   ]
  },
  {
   "cell_type": "code",
   "execution_count": 37,
   "id": "7abb7455",
   "metadata": {
    "execution": {
     "iopub.execute_input": "2022-08-17T17:29:24.514349Z",
     "iopub.status.busy": "2022-08-17T17:29:24.513666Z",
     "iopub.status.idle": "2022-08-17T17:29:24.828235Z",
     "shell.execute_reply": "2022-08-17T17:29:24.827160Z"
    },
    "papermill": {
     "duration": 0.350567,
     "end_time": "2022-08-17T17:29:24.830577",
     "exception": false,
     "start_time": "2022-08-17T17:29:24.480010",
     "status": "completed"
    },
    "tags": []
   },
   "outputs": [
    {
     "data": {
      "image/png": "[encoded data removed]",
      "text/plain": [
       "<Figure size 432x288 with 1 Axes>"
      ]
     },
     "metadata": {},
     "output_type": "display_data"
    }
   ],
   "source": [
    "sns.countplot(x = data[\"target\"]);"
   ]
  },
  {
   "cell_type": "markdown",
   "id": "dd898c10",
   "metadata": {
    "papermill": {
     "duration": 0.03206,
     "end_time": "2022-08-17T17:29:24.894656",
     "exception": false,
     "start_time": "2022-08-17T17:29:24.862596",
     "status": "completed"
    },
    "tags": []
   },
   "source": [
    "The ratio between **1** and **0** is much less than **1.5** which indicates that the target feature is not imbalanced."
   ]
  },
  {
   "cell_type": "markdown",
   "id": "1d0fcfec",
   "metadata": {
    "papermill": {
     "duration": 0.031821,
     "end_time": "2022-08-17T17:29:24.958707",
     "exception": false,
     "start_time": "2022-08-17T17:29:24.926886",
     "status": "completed"
    },
    "tags": []
   },
   "source": [
    "# Step 4: Data preparation"
   ]
  },
  {
   "cell_type": "markdown",
   "id": "9818d5de",
   "metadata": {
    "papermill": {
     "duration": 0.031866,
     "end_time": "2022-08-17T17:29:25.023060",
     "exception": false,
     "start_time": "2022-08-17T17:29:24.991194",
     "status": "completed"
    },
    "tags": []
   },
   "source": [
    "### Label Encoding"
   ]
  },
  {
   "cell_type": "code",
   "execution_count": 38,
   "id": "a8edf404",
   "metadata": {
    "execution": {
     "iopub.execute_input": "2022-08-17T17:29:25.089698Z",
     "iopub.status.busy": "2022-08-17T17:29:25.088735Z",
     "iopub.status.idle": "2022-08-17T17:29:25.097139Z",
     "shell.execute_reply": "2022-08-17T17:29:25.095856Z"
    },
    "papermill": {
     "duration": 0.044816,
     "end_time": "2022-08-17T17:29:25.099794",
     "exception": false,
     "start_time": "2022-08-17T17:29:25.054978",
     "status": "completed"
    },
    "tags": []
   },
   "outputs": [
    {
     "name": "stdout",
     "output_type": "stream",
     "text": [
      "['Male' 'Female']\n",
      "[1 0]\n"
     ]
    }
   ],
   "source": [
    "print (data[\"sex\"].unique())\n",
    "\n",
    "#Replacing Female as 0 and Male as 1 in sex column in the dataset\n",
    "\n",
    "data[\"sex\"] = data[\"sex\"].map({\"Female\":0, \"Male\":1})\n",
    "print (data[\"sex\"].unique())"
   ]
  },
  {
   "cell_type": "markdown",
   "id": "e74b2937",
   "metadata": {
    "papermill": {
     "duration": 0.032198,
     "end_time": "2022-08-17T17:29:25.164992",
     "exception": false,
     "start_time": "2022-08-17T17:29:25.132794",
     "status": "completed"
    },
    "tags": []
   },
   "source": [
    "### Detecting Outliers"
   ]
  },
  {
   "cell_type": "code",
   "execution_count": 39,
   "id": "d189897b",
   "metadata": {
    "execution": {
     "iopub.execute_input": "2022-08-17T17:29:25.231423Z",
     "iopub.status.busy": "2022-08-17T17:29:25.230721Z",
     "iopub.status.idle": "2022-08-17T17:29:26.589760Z",
     "shell.execute_reply": "2022-08-17T17:29:26.588563Z"
    },
    "papermill": {
     "duration": 1.395487,
     "end_time": "2022-08-17T17:29:26.592401",
     "exception": false,
     "start_time": "2022-08-17T17:29:25.196914",
     "status": "completed"
    },
    "tags": []
   },
   "outputs": [
    {
     "data": {
      "image/png": "[encoded data removed]",
      "text/plain": [
       "<Figure size 1440x1080 with 13 Axes>"
      ]
     },
     "metadata": {},
     "output_type": "display_data"
    }
   ],
   "source": [
    "col = 1\n",
    "plt.figure(figsize = (20, 15))\n",
    "for i in data.columns:\n",
    "    if col < 14:\n",
    "        plt.subplot(3, 5, col)\n",
    "        plt.boxplot(data[i])\n",
    "        plt.xlabel(i)\n",
    "    col = col + 1"
   ]
  },
  {
   "cell_type": "markdown",
   "id": "e51a9fe3",
   "metadata": {
    "papermill": {
     "duration": 0.033582,
     "end_time": "2022-08-17T17:29:26.659570",
     "exception": false,
     "start_time": "2022-08-17T17:29:26.625988",
     "status": "completed"
    },
    "tags": []
   },
   "source": [
    "we can see that there are many outliers in the column trestbps,chol,ca,thalach,oldpeak\n",
    "so i will try to remove these outliers."
   ]
  },
  {
   "cell_type": "code",
   "execution_count": 40,
   "id": "3f7d451a",
   "metadata": {
    "execution": {
     "iopub.execute_input": "2022-08-17T17:29:26.729359Z",
     "iopub.status.busy": "2022-08-17T17:29:26.728951Z",
     "iopub.status.idle": "2022-08-17T17:29:26.911188Z",
     "shell.execute_reply": "2022-08-17T17:29:26.910209Z"
    },
    "papermill": {
     "duration": 0.219844,
     "end_time": "2022-08-17T17:29:26.913548",
     "exception": false,
     "start_time": "2022-08-17T17:29:26.693704",
     "status": "completed"
    },
    "tags": []
   },
   "outputs": [
    {
     "data": {
      "image/png": "[encoded data removed]",
      "text/plain": [
       "<Figure size 432x288 with 1 Axes>"
      ]
     },
     "metadata": {},
     "output_type": "display_data"
    }
   ],
   "source": [
    "#Removing outliers from the column trestbps\n",
    "q3=data[\"trestbps\"].quantile(q=0.75)\n",
    "q1=data[\"trestbps\"].quantile(q=0.25)\n",
    "IQR=q3-q1\n",
    "IQR_lower_limit=int(q1-1.5*IQR)\n",
    "IQR_upper_limit=int(q3+1.5*IQR)\n",
    "k=data[data[\"trestbps\"]>IQR_upper_limit]\n",
    "data=data[data[\"trestbps\"]<IQR_upper_limit]\n",
    "plt.boxplot(data[\"trestbps\"]);"
   ]
  },
  {
   "cell_type": "code",
   "execution_count": 41,
   "id": "6a3c73d4",
   "metadata": {
    "execution": {
     "iopub.execute_input": "2022-08-17T17:29:26.983503Z",
     "iopub.status.busy": "2022-08-17T17:29:26.983076Z",
     "iopub.status.idle": "2022-08-17T17:29:27.156538Z",
     "shell.execute_reply": "2022-08-17T17:29:27.155082Z"
    },
    "papermill": {
     "duration": 0.211361,
     "end_time": "2022-08-17T17:29:27.159040",
     "exception": false,
     "start_time": "2022-08-17T17:29:26.947679",
     "status": "completed"
    },
    "tags": []
   },
   "outputs": [
    {
     "data": {
      "image/png": "[encoded data removed]",
      "text/plain": [
       "<Figure size 432x288 with 1 Axes>"
      ]
     },
     "metadata": {},
     "output_type": "display_data"
    }
   ],
   "source": [
    "#Removing outliers from the column chol\n",
    "q3=data[\"chol\"].quantile(q=0.75)\n",
    "q1=data[\"chol\"].quantile(q=0.25)\n",
    "IQR=q3-q1\n",
    "IQR_lower_limit=int(q1-1.5*IQR)\n",
    "IQR_upper_limit=int(q3+1.5*IQR)\n",
    "k=data[data[\"chol\"]>IQR_upper_limit]\n",
    "data=data[data[\"chol\"]<IQR_upper_limit]\n",
    "plt.boxplot(data[\"chol\"]);"
   ]
  },
  {
   "cell_type": "code",
   "execution_count": 42,
   "id": "28506085",
   "metadata": {
    "execution": {
     "iopub.execute_input": "2022-08-17T17:29:27.241576Z",
     "iopub.status.busy": "2022-08-17T17:29:27.240858Z",
     "iopub.status.idle": "2022-08-17T17:29:27.426442Z",
     "shell.execute_reply": "2022-08-17T17:29:27.424542Z"
    },
    "papermill": {
     "duration": 0.233215,
     "end_time": "2022-08-17T17:29:27.428672",
     "exception": false,
     "start_time": "2022-08-17T17:29:27.195457",
     "status": "completed"
    },
    "tags": []
   },
   "outputs": [
    {
     "data": {
      "image/png": "[encoded data removed]",
      "text/plain": [
       "<Figure size 432x288 with 1 Axes>"
      ]
     },
     "metadata": {},
     "output_type": "display_data"
    }
   ],
   "source": [
    "#Removing outliers from the column ca:l\n",
    "q3=data[\"ca\"].quantile(q=0.75)\n",
    "q1=data[\"ca\"].quantile(q=0.25)\n",
    "IQR=q3-q1\n",
    "IQR_lower_limit=int(q1-1.5*IQR)\n",
    "IQR_upper_limit=int(q3+1.5*IQR)\n",
    "k=data[data[\"ca\"]>IQR_upper_limit]\n",
    "data=data[data[\"ca\"]<IQR_upper_limit]\n",
    "plt.boxplot(data[\"ca\"]);"
   ]
  },
  {
   "cell_type": "code",
   "execution_count": 43,
   "id": "a9f8699a",
   "metadata": {
    "execution": {
     "iopub.execute_input": "2022-08-17T17:29:27.498364Z",
     "iopub.status.busy": "2022-08-17T17:29:27.497703Z",
     "iopub.status.idle": "2022-08-17T17:29:27.675403Z",
     "shell.execute_reply": "2022-08-17T17:29:27.674623Z"
    },
    "papermill": {
     "duration": 0.214824,
     "end_time": "2022-08-17T17:29:27.677465",
     "exception": false,
     "start_time": "2022-08-17T17:29:27.462641",
     "status": "completed"
    },
    "tags": []
   },
   "outputs": [
    {
     "data": {
      "image/png": "[encoded data removed]",
      "text/plain": [
       "<Figure size 432x288 with 1 Axes>"
      ]
     },
     "metadata": {},
     "output_type": "display_data"
    }
   ],
   "source": [
    "#Removing outliers from the column oldpeak\n",
    "q3=data[\"oldpeak\"].quantile(q=0.75)\n",
    "q1=data[\"oldpeak\"].quantile(q=0.25)\n",
    "IQR=q3-q1\n",
    "IQR_lower_limit=int(q1-1.5*IQR)\n",
    "IQR_upper_limit=int(q3+1.5*IQR)\n",
    "k=data[data[\"oldpeak\"]>IQR_upper_limit]\n",
    "data=data[data[\"oldpeak\"]<IQR_upper_limit]\n",
    "plt.boxplot(data[\"oldpeak\"]);"
   ]
  },
  {
   "cell_type": "markdown",
   "id": "6eb26a9c",
   "metadata": {
    "papermill": {
     "duration": 0.033592,
     "end_time": "2022-08-17T17:29:27.745037",
     "exception": false,
     "start_time": "2022-08-17T17:29:27.711445",
     "status": "completed"
    },
    "tags": []
   },
   "source": [
    "Now the data is cleaned and i will checkh the co-relation between the featues."
   ]
  },
  {
   "cell_type": "markdown",
   "id": "0a9b9cbc",
   "metadata": {
    "papermill": {
     "duration": 0.033796,
     "end_time": "2022-08-17T17:29:27.812285",
     "exception": false,
     "start_time": "2022-08-17T17:29:27.778489",
     "status": "completed"
    },
    "tags": []
   },
   "source": [
    "### Correlation Heatmap"
   ]
  },
  {
   "cell_type": "code",
   "execution_count": 44,
   "id": "e77fea5d",
   "metadata": {
    "execution": {
     "iopub.execute_input": "2022-08-17T17:29:27.882921Z",
     "iopub.status.busy": "2022-08-17T17:29:27.882316Z",
     "iopub.status.idle": "2022-08-17T17:29:28.961748Z",
     "shell.execute_reply": "2022-08-17T17:29:28.960857Z"
    },
    "papermill": {
     "duration": 1.118897,
     "end_time": "2022-08-17T17:29:28.965207",
     "exception": false,
     "start_time": "2022-08-17T17:29:27.846310",
     "status": "completed"
    },
    "scrolled": true,
    "tags": []
   },
   "outputs": [
    {
     "data": {
      "image/png": "[encoded data removed]",
      "text/plain": [
       "<Figure size 720x576 with 2 Axes>"
      ]
     },
     "metadata": {},
     "output_type": "display_data"
    }
   ],
   "source": [
    "x = data.corr()\n",
    "\n",
    "plt.figure(figsize = (10, 8))\n",
    "sns.heatmap(x, annot = True, cmap = \"mako\")\n",
    "plt.title(\"Correlation Heatmap\");"
   ]
  },
  {
   "cell_type": "markdown",
   "id": "3e067017",
   "metadata": {
    "papermill": {
     "duration": 0.049501,
     "end_time": "2022-08-17T17:29:29.052038",
     "exception": false,
     "start_time": "2022-08-17T17:29:29.002537",
     "status": "completed"
    },
    "tags": []
   },
   "source": [
    "From the above we can see that the columns are not co-related with tearget so we will take all the columns for model."
   ]
  },
  {
   "cell_type": "markdown",
   "id": "ce0409a9",
   "metadata": {
    "papermill": {
     "duration": 0.036207,
     "end_time": "2022-08-17T17:29:29.125213",
     "exception": false,
     "start_time": "2022-08-17T17:29:29.089006",
     "status": "completed"
    },
    "tags": []
   },
   "source": [
    "# Step 5 :Modelling and Evaluation."
   ]
  },
  {
   "cell_type": "markdown",
   "id": "c81d4ace",
   "metadata": {
    "papermill": {
     "duration": 0.036585,
     "end_time": "2022-08-17T17:29:29.197777",
     "exception": false,
     "start_time": "2022-08-17T17:29:29.161192",
     "status": "completed"
    },
    "tags": []
   },
   "source": [
    "### Define the Dependent and the Independent Variables"
   ]
  },
  {
   "cell_type": "code",
   "execution_count": 45,
   "id": "77325101",
   "metadata": {
    "execution": {
     "iopub.execute_input": "2022-08-17T17:29:29.276002Z",
     "iopub.status.busy": "2022-08-17T17:29:29.275303Z",
     "iopub.status.idle": "2022-08-17T17:29:29.281960Z",
     "shell.execute_reply": "2022-08-17T17:29:29.281180Z"
    },
    "papermill": {
     "duration": 0.046952,
     "end_time": "2022-08-17T17:29:29.284305",
     "exception": false,
     "start_time": "2022-08-17T17:29:29.237353",
     "status": "completed"
    },
    "tags": []
   },
   "outputs": [],
   "source": [
    "x = data.drop(columns = [\"target\"])\n",
    "y = data[\"target\"]"
   ]
  },
  {
   "cell_type": "markdown",
   "id": "dc5a5a3e",
   "metadata": {
    "papermill": {
     "duration": 0.036231,
     "end_time": "2022-08-17T17:29:29.357060",
     "exception": false,
     "start_time": "2022-08-17T17:29:29.320829",
     "status": "completed"
    },
    "tags": []
   },
   "source": [
    "### Scaling of Data using MinMaxScaler"
   ]
  },
  {
   "cell_type": "code",
   "execution_count": 46,
   "id": "4dfb8791",
   "metadata": {
    "execution": {
     "iopub.execute_input": "2022-08-17T17:29:29.432365Z",
     "iopub.status.busy": "2022-08-17T17:29:29.431599Z",
     "iopub.status.idle": "2022-08-17T17:29:29.440113Z",
     "shell.execute_reply": "2022-08-17T17:29:29.439383Z"
    },
    "papermill": {
     "duration": 0.049326,
     "end_time": "2022-08-17T17:29:29.442361",
     "exception": false,
     "start_time": "2022-08-17T17:29:29.393035",
     "status": "completed"
    },
    "tags": []
   },
   "outputs": [],
   "source": [
    "x_scaled = MinMaxScaler()\n",
    "x_scaled = x_scaled.fit_transform(x)"
   ]
  },
  {
   "cell_type": "markdown",
   "id": "1328564e",
   "metadata": {
    "papermill": {
     "duration": 0.036769,
     "end_time": "2022-08-17T17:29:29.515318",
     "exception": false,
     "start_time": "2022-08-17T17:29:29.478549",
     "status": "completed"
    },
    "tags": []
   },
   "source": [
    "### Training the Data"
   ]
  },
  {
   "cell_type": "code",
   "execution_count": 47,
   "id": "bbbe8650",
   "metadata": {
    "execution": {
     "iopub.execute_input": "2022-08-17T17:29:29.589219Z",
     "iopub.status.busy": "2022-08-17T17:29:29.588449Z",
     "iopub.status.idle": "2022-08-17T17:29:29.594901Z",
     "shell.execute_reply": "2022-08-17T17:29:29.594153Z"
    },
    "papermill": {
     "duration": 0.046037,
     "end_time": "2022-08-17T17:29:29.597069",
     "exception": false,
     "start_time": "2022-08-17T17:29:29.551032",
     "status": "completed"
    },
    "tags": []
   },
   "outputs": [],
   "source": [
    "x_train, x_test, y_train, y_test = train_test_split(x_scaled, y, test_size = 0.20, random_state = 1234)"
   ]
  },
  {
   "cell_type": "markdown",
   "id": "75c25d36",
   "metadata": {
    "papermill": {
     "duration": 0.035726,
     "end_time": "2022-08-17T17:29:29.668786",
     "exception": false,
     "start_time": "2022-08-17T17:29:29.633060",
     "status": "completed"
    },
    "tags": []
   },
   "source": [
    "# LOGISTIC REGRESSION"
   ]
  },
  {
   "cell_type": "code",
   "execution_count": 48,
   "id": "904307bf",
   "metadata": {
    "execution": {
     "iopub.execute_input": "2022-08-17T17:29:29.743697Z",
     "iopub.status.busy": "2022-08-17T17:29:29.742958Z",
     "iopub.status.idle": "2022-08-17T17:29:29.765621Z",
     "shell.execute_reply": "2022-08-17T17:29:29.763801Z"
    },
    "papermill": {
     "duration": 0.063186,
     "end_time": "2022-08-17T17:29:29.768236",
     "exception": false,
     "start_time": "2022-08-17T17:29:29.705050",
     "status": "completed"
    },
    "scrolled": true,
    "tags": []
   },
   "outputs": [
    {
     "name": "stdout",
     "output_type": "stream",
     "text": [
      "0.8551724137931035\n",
      "0.8877005347593583\n",
      "[[41 18]\n",
      " [ 3 83]]\n"
     ]
    }
   ],
   "source": [
    "log_reg = LogisticRegression()\n",
    "log_reg.fit(x_train, y_train)\n",
    "y_pred = log_reg.predict(x_test)\n",
    "lr_acc = accuracy_score(y_test, y_pred)\n",
    "print(lr_acc)\n",
    "f1 = f1_score(y_test, y_pred)\n",
    "print(f1)\n",
    "mat = confusion_matrix(y_test, y_pred)\n",
    "print(mat)"
   ]
  },
  {
   "cell_type": "markdown",
   "id": "565bf686",
   "metadata": {
    "papermill": {
     "duration": 0.035972,
     "end_time": "2022-08-17T17:29:29.841157",
     "exception": false,
     "start_time": "2022-08-17T17:29:29.805185",
     "status": "completed"
    },
    "tags": []
   },
   "source": [
    "# DECISION TREE CLASSIFIER"
   ]
  },
  {
   "cell_type": "code",
   "execution_count": 49,
   "id": "df6521ba",
   "metadata": {
    "execution": {
     "iopub.execute_input": "2022-08-17T17:29:29.916173Z",
     "iopub.status.busy": "2022-08-17T17:29:29.915060Z",
     "iopub.status.idle": "2022-08-17T17:29:32.139795Z",
     "shell.execute_reply": "2022-08-17T17:29:32.138540Z"
    },
    "papermill": {
     "duration": 2.264823,
     "end_time": "2022-08-17T17:29:32.142201",
     "exception": false,
     "start_time": "2022-08-17T17:29:29.877378",
     "status": "completed"
    },
    "tags": []
   },
   "outputs": [
    {
     "data": {
      "text/plain": [
       "{'criterion': 'entropy', 'min_samples_leaf': 1, 'min_samples_split': 2}"
      ]
     },
     "execution_count": 49,
     "metadata": {},
     "output_type": "execute_result"
    }
   ],
   "source": [
    "DT= DecisionTreeClassifier()\n",
    "parameters = {\n",
    "'criterion' : ['gini', 'entropy'],\n",
    "'min_samples_split' : [2,4,6,8],\n",
    "'min_samples_leaf': [1,2,3,4,5],\n",
    "}\n",
    "from sklearn.model_selection import GridSearchCV\n",
    "grid_search_cv = GridSearchCV(estimator=DT, param_grid=parameters,\n",
    "                          cv=5, scoring=\"accuracy\", n_jobs =-1)\n",
    "grid_search_cv.fit(x_scaled, y)\n",
    "grid_search_cv.best_params_"
   ]
  },
  {
   "cell_type": "code",
   "execution_count": 50,
   "id": "9518543a",
   "metadata": {
    "execution": {
     "iopub.execute_input": "2022-08-17T17:29:32.217166Z",
     "iopub.status.busy": "2022-08-17T17:29:32.216023Z",
     "iopub.status.idle": "2022-08-17T17:29:32.228715Z",
     "shell.execute_reply": "2022-08-17T17:29:32.227400Z"
    },
    "papermill": {
     "duration": 0.05298,
     "end_time": "2022-08-17T17:29:32.231509",
     "exception": false,
     "start_time": "2022-08-17T17:29:32.178529",
     "status": "completed"
    },
    "scrolled": true,
    "tags": []
   },
   "outputs": [
    {
     "name": "stdout",
     "output_type": "stream",
     "text": [
      "1.0\n",
      "[[59  0]\n",
      " [ 0 86]]\n",
      "              precision    recall  f1-score   support\n",
      "\n",
      "           0       1.00      1.00      1.00        59\n",
      "           1       1.00      1.00      1.00        86\n",
      "\n",
      "    accuracy                           1.00       145\n",
      "   macro avg       1.00      1.00      1.00       145\n",
      "weighted avg       1.00      1.00      1.00       145\n",
      "\n"
     ]
    }
   ],
   "source": [
    "y_pred = grid_search_cv.predict(x_test)\n",
    "dt_accuracy = accuracy_score(y_pred,y_test)\n",
    "print(dt_accuracy)\n",
    "mat = confusion_matrix(y_test,y_pred)\n",
    "print(mat)\n",
    "print(classification_report(y_test,y_pred))"
   ]
  },
  {
   "cell_type": "markdown",
   "id": "b2ea42a9",
   "metadata": {
    "papermill": {
     "duration": 0.035904,
     "end_time": "2022-08-17T17:29:32.304396",
     "exception": false,
     "start_time": "2022-08-17T17:29:32.268492",
     "status": "completed"
    },
    "tags": []
   },
   "source": [
    "# RANDOM FOREST CLASSIFIER"
   ]
  },
  {
   "cell_type": "code",
   "execution_count": 51,
   "id": "7485930c",
   "metadata": {
    "execution": {
     "iopub.execute_input": "2022-08-17T17:29:32.379017Z",
     "iopub.status.busy": "2022-08-17T17:29:32.378627Z",
     "iopub.status.idle": "2022-08-17T17:29:32.576613Z",
     "shell.execute_reply": "2022-08-17T17:29:32.574903Z"
    },
    "papermill": {
     "duration": 0.23937,
     "end_time": "2022-08-17T17:29:32.579709",
     "exception": false,
     "start_time": "2022-08-17T17:29:32.340339",
     "status": "completed"
    },
    "scrolled": true,
    "tags": []
   },
   "outputs": [
    {
     "name": "stdout",
     "output_type": "stream",
     "text": [
      "1.0\n",
      "[[59  0]\n",
      " [ 0 86]]\n",
      "              precision    recall  f1-score   support\n",
      "\n",
      "           0       1.00      1.00      1.00        59\n",
      "           1       1.00      1.00      1.00        86\n",
      "\n",
      "    accuracy                           1.00       145\n",
      "   macro avg       1.00      1.00      1.00       145\n",
      "weighted avg       1.00      1.00      1.00       145\n",
      "\n"
     ]
    }
   ],
   "source": [
    "RF= RandomForestClassifier()\n",
    "RF.fit(x_train,y_train)\n",
    "y_pred = RF.predict(x_test)\n",
    "rf_accuracy = accuracy_score(y_test,y_pred)\n",
    "print(rf_accuracy)\n",
    "c_mat= confusion_matrix(y_test,y_pred)\n",
    "print(c_mat)\n",
    "print(classification_report(y_test,y_pred))"
   ]
  },
  {
   "cell_type": "markdown",
   "id": "a1c29ddf",
   "metadata": {
    "papermill": {
     "duration": 0.036832,
     "end_time": "2022-08-17T17:29:32.654066",
     "exception": false,
     "start_time": "2022-08-17T17:29:32.617234",
     "status": "completed"
    },
    "tags": []
   },
   "source": [
    "# GRADIENT BOOSTING CLASSIFIER"
   ]
  },
  {
   "cell_type": "code",
   "execution_count": 52,
   "id": "66aac474",
   "metadata": {
    "execution": {
     "iopub.execute_input": "2022-08-17T17:29:32.730030Z",
     "iopub.status.busy": "2022-08-17T17:29:32.729349Z",
     "iopub.status.idle": "2022-08-17T17:29:32.860762Z",
     "shell.execute_reply": "2022-08-17T17:29:32.859159Z"
    },
    "papermill": {
     "duration": 0.172463,
     "end_time": "2022-08-17T17:29:32.863409",
     "exception": false,
     "start_time": "2022-08-17T17:29:32.690946",
     "status": "completed"
    },
    "scrolled": true,
    "tags": []
   },
   "outputs": [
    {
     "name": "stdout",
     "output_type": "stream",
     "text": [
      "0.9793103448275862\n",
      "[[56  3]\n",
      " [ 0 86]]\n",
      "              precision    recall  f1-score   support\n",
      "\n",
      "           0       1.00      0.95      0.97        59\n",
      "           1       0.97      1.00      0.98        86\n",
      "\n",
      "    accuracy                           0.98       145\n",
      "   macro avg       0.98      0.97      0.98       145\n",
      "weighted avg       0.98      0.98      0.98       145\n",
      "\n"
     ]
    }
   ],
   "source": [
    "GB = GradientBoostingClassifier()\n",
    "GB.fit(x_train,y_train)\n",
    "y_pred = GB.predict(x_test)\n",
    "gb_accuracy = accuracy_score(y_test,y_pred)\n",
    "print(gb_accuracy)\n",
    "confusion_mat= confusion_matrix(y_test,y_pred)\n",
    "print(confusion_mat)\n",
    "print(classification_report(y_test,y_pred))"
   ]
  },
  {
   "cell_type": "markdown",
   "id": "7e3d3a13",
   "metadata": {
    "papermill": {
     "duration": 0.113142,
     "end_time": "2022-08-17T17:29:34.193836",
     "exception": false,
     "start_time": "2022-08-17T17:29:34.080694",
     "status": "completed"
    },
    "tags": []
   },
   "source": [
    "## After implementing 4 models, this section will compare machine learning models."
   ]
  },
  {
   "cell_type": "code",
   "execution_count": 57,
   "id": "370d5335",
   "metadata": {
    "execution": {
     "iopub.execute_input": "2022-08-17T17:29:34.284292Z",
     "iopub.status.busy": "2022-08-17T17:29:34.283073Z",
     "iopub.status.idle": "2022-08-17T17:29:34.296695Z",
     "shell.execute_reply": "2022-08-17T17:29:34.295879Z"
    },
    "papermill": {
     "duration": 0.05619,
     "end_time": "2022-08-17T17:29:34.298663",
     "exception": false,
     "start_time": "2022-08-17T17:29:34.242473",
     "status": "completed"
    },
    "scrolled": true,
    "tags": []
   },
   "outputs": [
    {
     "data": {
      "text/html": [
       "<div>\n",
       "<style scoped>\n",
       "    .dataframe tbody tr th:only-of-type {\n",
       "        vertical-align: middle;\n",
       "    }\n",
       "\n",
       "    .dataframe tbody tr th {\n",
       "        vertical-align: top;\n",
       "    }\n",
       "\n",
       "    .dataframe thead th {\n",
       "        text-align: right;\n",
       "    }\n",
       "</style>\n",
       "<table border=\"1\" class=\"dataframe\">\n",
       "  <thead>\n",
       "    <tr style=\"text-align: right;\">\n",
       "      <th></th>\n",
       "      <th>Model</th>\n",
       "      <th>Accuracy</th>\n",
       "    </tr>\n",
       "  </thead>\n",
       "  <tbody>\n",
       "    <tr>\n",
       "      <th>0</th>\n",
       "      <td>Logistic Regression</td>\n",
       "      <td>85.517241</td>\n",
       "    </tr>\n",
       "    <tr>\n",
       "      <th>1</th>\n",
       "      <td>Decision Tree</td>\n",
       "      <td>100.000000</td>\n",
       "    </tr>\n",
       "    <tr>\n",
       "      <th>2</th>\n",
       "      <td>Random Forest</td>\n",
       "      <td>100.000000</td>\n",
       "    </tr>\n",
       "    <tr>\n",
       "      <th>3</th>\n",
       "      <td>Gradient Boosting</td>\n",
       "      <td>97.931034</td>\n",
       "    </tr>\n",
       "    <tr>\n",
       "      <th>4</th>\n",
       "      <td>Ada boost classifier</td>\n",
       "      <td>91.034483</td>\n",
       "    </tr>\n",
       "    <tr>\n",
       "      <th>5</th>\n",
       "      <td>Xg boost classifier</td>\n",
       "      <td>100.000000</td>\n",
       "    </tr>\n",
       "    <tr>\n",
       "      <th>6</th>\n",
       "      <td>Support Vector Machine</td>\n",
       "      <td>86.206897</td>\n",
       "    </tr>\n",
       "    <tr>\n",
       "      <th>7</th>\n",
       "      <td>K-nearest neighbor</td>\n",
       "      <td>86.206897</td>\n",
       "    </tr>\n",
       "  </tbody>\n",
       "</table>\n",
       "</div>"
      ],
      "text/plain": [
       "                    Model    Accuracy\n",
       "0     Logistic Regression   85.517241\n",
       "1           Decision Tree  100.000000\n",
       "2           Random Forest  100.000000\n",
       "3       Gradient Boosting   97.931034\n",
       "4    Ada boost classifier   91.034483\n",
       "5     Xg boost classifier  100.000000\n",
       "6  Support Vector Machine   86.206897\n",
       "7      K-nearest neighbor   86.206897"
      ]
     },
     "execution_count": 57,
     "metadata": {},
     "output_type": "execute_result"
    }
   ],
   "source": [
    "Evaluation = pd.DataFrame({'Model': ['Logistic Regression', \"Decision Tree\", 'Random Forest',\"Gradient Boosting\",\n",
    "                                     \"Ada boost classifier\",\"Xg boost classifier\",\"Support Vector Machine\",\"K-nearest neighbor\"], \n",
    "                          'Accuracy': [lr_acc*100, dt_accuracy*100,rf_accuracy*100, gb_accuracy*100, ab_accuracy*100,\n",
    "                                       xg_accuracy*100, sv_accuracy*100,\n",
    "                                     kn_accuracy*100]})\n",
    "Evaluation"
   ]
  },
  {
   "cell_type": "code",
   "execution_count": 58,
   "id": "fedca25e",
   "metadata": {
    "execution": {
     "iopub.execute_input": "2022-08-17T17:29:34.375374Z",
     "iopub.status.busy": "2022-08-17T17:29:34.374736Z",
     "iopub.status.idle": "2022-08-17T17:29:34.664480Z",
     "shell.execute_reply": "2022-08-17T17:29:34.663247Z"
    },
    "papermill": {
     "duration": 0.33163,
     "end_time": "2022-08-17T17:29:34.667575",
     "exception": false,
     "start_time": "2022-08-17T17:29:34.335945",
     "status": "completed"
    },
    "tags": []
   },
   "outputs": [
    {
     "data": {
      "image/png": "[encoded data removed]",
      "text/plain": [
       "<Figure size 864x720 with 1 Axes>"
      ]
     },
     "metadata": {},
     "output_type": "display_data"
    }
   ],
   "source": [
    "colors = ['red','green','blue','pink','purple','black','orange',\"yellow\"]\n",
    "plt.figure(figsize=(12,10))\n",
    "plt.title(\"Barplot representing the  Accuracy of different models\")\n",
    "plt.xlabel(\"Accuracy %\")\n",
    "plt.ylabel(\"Algorithms\")\n",
    "plt.bar(Evaluation['Model'],Evaluation['Accuracy'],color = colors)\n",
    "plt.xticks(rotation = 45)\n",
    "plt.show()"
   ]
  },
  {
   "cell_type": "markdown",
   "id": "5f9ff17f",
   "metadata": {
    "papermill": {
     "duration": 0.038291,
     "end_time": "2022-08-17T17:29:34.755573",
     "exception": false,
     "start_time": "2022-08-17T17:29:34.717282",
     "status": "completed"
    },
    "tags": []
   },
   "source": [
    "# Step 6: Conclusion"
   ]
  },
  {
   "cell_type": "markdown",
   "id": "4c700a6a",
   "metadata": {
    "papermill": {
     "duration": 0.037704,
     "end_time": "2022-08-17T17:29:34.832564",
     "exception": false,
     "start_time": "2022-08-17T17:29:34.794860",
     "status": "completed"
    },
    "tags": []
   },
   "source": [
    "We have found the hidden data insights using visualization and \n",
    "compare different machine learning models based on accuracy \n",
    "and it is found that Decision Tree and Random Forest work efficiently\n",
    "for this data set with accuracy 100%"
   ]
  }
 ],
 "metadata": {
  "kernelspec": {
   "display_name": "Python 3",
   "language": "python",
   "name": "python3"
  },
  "language_info": {
   "codemirror_mode": {
    "name": "ipython",
    "version": 3
   },
   "file_extension": ".py",
   "mimetype": "text/x-python",
   "name": "python",
   "nbconvert_exporter": "python",
   "pygments_lexer": "ipython3",
   "version": "3.7.12"
  },
  "papermill": {
   "default_parameters": {},
   "duration": 33.19159,
   "end_time": "2022-08-17T17:29:37.494251",
   "environment_variables": {},
   "exception": null,
   "input_path": "__notebook__.ipynb",
   "output_path": "__notebook__.ipynb",
   "parameters": {},
   "start_time": "2022-08-17T17:29:04.302661",
   "version": "2.3.4"
  }
 },
 "nbformat": 4,
 "nbformat_minor": 5
}
